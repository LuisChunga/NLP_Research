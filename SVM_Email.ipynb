{
 "cells": [
  {
   "cell_type": "markdown",
   "metadata": {},
   "source": [
    "# Support Vector Machine\n",
    "### Luis Chunga"
   ]
  },
  {
   "cell_type": "code",
   "execution_count": 1,
   "metadata": {},
   "outputs": [],
   "source": [
    "from sklearn.feature_extraction.text import TfidfVectorizer\n",
    "from sklearn import model_selection, svm\n",
    "from nltk.tokenize import word_tokenize\n",
    "from nltk.stem import WordNetLemmatizer\n",
    "from sklearn.metrics import classification_report\n",
    "from sklearn.metrics import accuracy_score\n",
    "from sklearn.metrics import confusion_matrix\n",
    "from collections import defaultdict\n",
    "from nltk.corpus import wordnet as wn\n",
    "import numpy as np\n",
    "import seaborn as sns\n",
    "import matplotlib.pyplot as plt\n",
    "from nltk import pos_tag\n",
    "import pandas as pd\n",
    "import time\n"
   ]
  },
  {
   "cell_type": "code",
   "execution_count": 13,
   "metadata": {},
   "outputs": [
    {
     "name": "stderr",
     "output_type": "stream",
     "text": [
      "[nltk_data] Downloading package averaged_perceptron_tagger to\n",
      "[nltk_data]     /Users/luis/nltk_data...\n",
      "[nltk_data]   Unzipping taggers/averaged_perceptron_tagger.zip.\n"
     ]
    },
    {
     "data": {
      "text/plain": [
       "True"
      ]
     },
     "execution_count": 13,
     "metadata": {},
     "output_type": "execute_result"
    }
   ],
   "source": [
    "import nltk\n",
    "nltk.download('averaged_perceptron_tagger')"
   ]
  },
  {
   "cell_type": "code",
   "execution_count": 2,
   "metadata": {},
   "outputs": [
    {
     "data": {
      "text/html": [
       "<div>\n",
       "<style scoped>\n",
       "    .dataframe tbody tr th:only-of-type {\n",
       "        vertical-align: middle;\n",
       "    }\n",
       "\n",
       "    .dataframe tbody tr th {\n",
       "        vertical-align: top;\n",
       "    }\n",
       "\n",
       "    .dataframe thead th {\n",
       "        text-align: right;\n",
       "    }\n",
       "</style>\n",
       "<table border=\"1\" class=\"dataframe\">\n",
       "  <thead>\n",
       "    <tr style=\"text-align: right;\">\n",
       "      <th></th>\n",
       "      <th>tweets</th>\n",
       "      <th>category</th>\n",
       "    </tr>\n",
       "  </thead>\n",
       "  <tbody>\n",
       "    <tr>\n",
       "      <th>0</th>\n",
       "      <td>Some of the most beautiful women your eyes wil...</td>\n",
       "      <td>2</td>\n",
       "    </tr>\n",
       "    <tr>\n",
       "      <th>1</th>\n",
       "      <td>Of course #notall Muslims are taught all of th...</td>\n",
       "      <td>2</td>\n",
       "    </tr>\n",
       "    <tr>\n",
       "      <th>2</th>\n",
       "      <td>Why is JoeBiden's Director of Jewish Outreach ...</td>\n",
       "      <td>1</td>\n",
       "    </tr>\n",
       "    <tr>\n",
       "      <th>3</th>\n",
       "      <td>On a Muslim dating app and I asked a guy what ...</td>\n",
       "      <td>2</td>\n",
       "    </tr>\n",
       "    <tr>\n",
       "      <th>4</th>\n",
       "      <td>Haha thatâs why muslim smell like shit, stop...</td>\n",
       "      <td>2</td>\n",
       "    </tr>\n",
       "    <tr>\n",
       "      <th>...</th>\n",
       "      <td>...</td>\n",
       "      <td>...</td>\n",
       "    </tr>\n",
       "    <tr>\n",
       "      <th>908</th>\n",
       "      <td>'@fjspti We are talking about Pakistan not US ...</td>\n",
       "      <td>0</td>\n",
       "    </tr>\n",
       "    <tr>\n",
       "      <th>909</th>\n",
       "      <td>'From US to UK  Kandahar to Kabul  Delhi to Mu...</td>\n",
       "      <td>0</td>\n",
       "    </tr>\n",
       "    <tr>\n",
       "      <th>910</th>\n",
       "      <td>'Replug: For @Reuters  on how families of thos...</td>\n",
       "      <td>0</td>\n",
       "    </tr>\n",
       "    <tr>\n",
       "      <th>911</th>\n",
       "      <td>News in brief: #smes #UKTI #CBI #Pakistan #glo...</td>\n",
       "      <td>0</td>\n",
       "    </tr>\n",
       "    <tr>\n",
       "      <th>912</th>\n",
       "      <td>'RT @BizAsia Showbiz: #BajiraoMastani cleared ...</td>\n",
       "      <td>0</td>\n",
       "    </tr>\n",
       "  </tbody>\n",
       "</table>\n",
       "<p>913 rows × 2 columns</p>\n",
       "</div>"
      ],
      "text/plain": [
       "                                                tweets  category\n",
       "0    Some of the most beautiful women your eyes wil...         2\n",
       "1    Of course #notall Muslims are taught all of th...         2\n",
       "2    Why is JoeBiden's Director of Jewish Outreach ...         1\n",
       "3    On a Muslim dating app and I asked a guy what ...         2\n",
       "4    Haha thatâs why muslim smell like shit, stop...         2\n",
       "..                                                 ...       ...\n",
       "908  '@fjspti We are talking about Pakistan not US ...         0\n",
       "909  'From US to UK  Kandahar to Kabul  Delhi to Mu...         0\n",
       "910  'Replug: For @Reuters  on how families of thos...         0\n",
       "911  News in brief: #smes #UKTI #CBI #Pakistan #glo...         0\n",
       "912  'RT @BizAsia Showbiz: #BajiraoMastani cleared ...         0\n",
       "\n",
       "[913 rows x 2 columns]"
      ]
     },
     "execution_count": 2,
     "metadata": {},
     "output_type": "execute_result"
    }
   ],
   "source": [
    "start_time = time.time()\n",
    "# Add the Data using pandas\n",
    "Corpus = pd.read_csv(\"input/Nausheen.csv\",encoding='latin')\n",
    "Corpus"
   ]
  },
  {
   "cell_type": "code",
   "execution_count": 3,
   "metadata": {},
   "outputs": [
    {
     "data": {
      "text/html": [
       "<div>\n",
       "<style scoped>\n",
       "    .dataframe tbody tr th:only-of-type {\n",
       "        vertical-align: middle;\n",
       "    }\n",
       "\n",
       "    .dataframe tbody tr th {\n",
       "        vertical-align: top;\n",
       "    }\n",
       "\n",
       "    .dataframe thead tr th {\n",
       "        text-align: left;\n",
       "    }\n",
       "\n",
       "    .dataframe thead tr:last-of-type th {\n",
       "        text-align: right;\n",
       "    }\n",
       "</style>\n",
       "<table border=\"1\" class=\"dataframe\">\n",
       "  <thead>\n",
       "    <tr>\n",
       "      <th></th>\n",
       "      <th colspan=\"4\" halign=\"left\">tweets</th>\n",
       "    </tr>\n",
       "    <tr>\n",
       "      <th></th>\n",
       "      <th>count</th>\n",
       "      <th>unique</th>\n",
       "      <th>top</th>\n",
       "      <th>freq</th>\n",
       "    </tr>\n",
       "    <tr>\n",
       "      <th>category</th>\n",
       "      <th></th>\n",
       "      <th></th>\n",
       "      <th></th>\n",
       "      <th></th>\n",
       "    </tr>\n",
       "  </thead>\n",
       "  <tbody>\n",
       "    <tr>\n",
       "      <th>0</th>\n",
       "      <td>417</td>\n",
       "      <td>414</td>\n",
       "      <td>What an embarrassment to the Congress and the ...</td>\n",
       "      <td>2</td>\n",
       "    </tr>\n",
       "    <tr>\n",
       "      <th>1</th>\n",
       "      <td>104</td>\n",
       "      <td>102</td>\n",
       "      <td>Ramy' becomes first Muslim American sitcom to ...</td>\n",
       "      <td>3</td>\n",
       "    </tr>\n",
       "    <tr>\n",
       "      <th>2</th>\n",
       "      <td>139</td>\n",
       "      <td>138</td>\n",
       "      <td>Muslims are the ones who invented the slave tr...</td>\n",
       "      <td>2</td>\n",
       "    </tr>\n",
       "    <tr>\n",
       "      <th>3</th>\n",
       "      <td>253</td>\n",
       "      <td>252</td>\n",
       "      <td>There can never be peace wherever there is Islam.</td>\n",
       "      <td>2</td>\n",
       "    </tr>\n",
       "  </tbody>\n",
       "</table>\n",
       "</div>"
      ],
      "text/plain": [
       "         tweets                                                               \n",
       "          count unique                                                top freq\n",
       "category                                                                      \n",
       "0           417    414  What an embarrassment to the Congress and the ...    2\n",
       "1           104    102  Ramy' becomes first Muslim American sitcom to ...    3\n",
       "2           139    138  Muslims are the ones who invented the slave tr...    2\n",
       "3           253    252  There can never be peace wherever there is Islam.    2"
      ]
     },
     "execution_count": 3,
     "metadata": {},
     "output_type": "execute_result"
    }
   ],
   "source": [
    "### The dataset has 2 class, which 0 is Email and 1 is spam \n",
    "### There are 2033 unique email out of 2087 \n",
    "### There are 1356 unique spam out of 1360 \n",
    "\n",
    "Corpus.groupby('category').describe()"
   ]
  },
  {
   "cell_type": "code",
   "execution_count": 4,
   "metadata": {},
   "outputs": [
    {
     "data": {
      "text/plain": [
       "Text(0.5, 1.0, 'Number of Tweets')"
      ]
     },
     "execution_count": 4,
     "metadata": {},
     "output_type": "execute_result"
    },
    {
     "data": {
      "image/png": "[encoded data removed]",
      "text/plain": [
       "<Figure size 432x288 with 1 Axes>"
      ]
     },
     "metadata": {
      "needs_background": "light"
     },
     "output_type": "display_data"
    }
   ],
   "source": [
    "# Display\n",
    "sns.countplot(Corpus.category)\n",
    "plt.xlabel('tweets')\n",
    "plt.title('Number of Tweets')"
   ]
  },
  {
   "cell_type": "code",
   "execution_count": 9,
   "metadata": {},
   "outputs": [],
   "source": [
    "# Initializing WordNetLemmatizer()\n",
    "word_Lemmatized = WordNetLemmatizer()"
   ]
  },
  {
   "cell_type": "code",
   "execution_count": 10,
   "metadata": {},
   "outputs": [],
   "source": [
    "\n",
    "# WordNetLemmatizer requires Pos tags to understand if the word is noun or verb or adjective etc. \n",
    "# By default it is set to Noun\n",
    "tag_map = defaultdict(lambda : wn.NOUN)\n",
    "tag_map['J'] = wn.ADJ\n",
    "tag_map['V'] = wn.VERB\n",
    "tag_map['R'] = wn.ADV"
   ]
  },
  {
   "cell_type": "code",
   "execution_count": 11,
   "metadata": {},
   "outputs": [],
   "source": [
    "#In this each entry in the corpus will be broken into set of words\n",
    "Corpus['tweets']= [word_tokenize(str(entry)) for entry in Corpus['tweets']]"
   ]
  },
  {
   "cell_type": "code",
   "execution_count": 14,
   "metadata": {},
   "outputs": [],
   "source": [
    "# IT lematize the corpus and convert the tokenize word to a list of string \n",
    "# Removing number\n",
    "\n",
    "for index,entry in enumerate(Corpus['tweets']):\n",
    "    # Declaring Empty List to store the words that follow the rules for this step\n",
    "    Final_words = []\n",
    "   \n",
    "    # pos_tag function below will provide the 'tag' \n",
    "    # if the word is Noun(N) or Verb(V) or something else.\n",
    "    for word, tag in pos_tag(entry):\n",
    "        word_Final = word_Lemmatized.lemmatize(word,tag_map[tag[0]])\n",
    "        Final_words.append(word_Final)\n",
    "    \n",
    "    Corpus.loc[index,'tweets'] = str(Final_words)\n"
   ]
  },
  {
   "cell_type": "code",
   "execution_count": 15,
   "metadata": {},
   "outputs": [
    {
     "data": {
      "text/html": [
       "<div>\n",
       "<style scoped>\n",
       "    .dataframe tbody tr th:only-of-type {\n",
       "        vertical-align: middle;\n",
       "    }\n",
       "\n",
       "    .dataframe tbody tr th {\n",
       "        vertical-align: top;\n",
       "    }\n",
       "\n",
       "    .dataframe thead th {\n",
       "        text-align: right;\n",
       "    }\n",
       "</style>\n",
       "<table border=\"1\" class=\"dataframe\">\n",
       "  <thead>\n",
       "    <tr style=\"text-align: right;\">\n",
       "      <th></th>\n",
       "      <th>tweets</th>\n",
       "      <th>category</th>\n",
       "    </tr>\n",
       "  </thead>\n",
       "  <tbody>\n",
       "    <tr>\n",
       "      <th>0</th>\n",
       "      <td>['Some', 'of', 'the', 'most', 'beautiful', 'wo...</td>\n",
       "      <td>2</td>\n",
       "    </tr>\n",
       "    <tr>\n",
       "      <th>1</th>\n",
       "      <td>['Of', 'course', '#', 'notall', 'Muslims', 'be...</td>\n",
       "      <td>2</td>\n",
       "    </tr>\n",
       "    <tr>\n",
       "      <th>2</th>\n",
       "      <td>['Why', 'be', 'JoeBiden', \"'s\", 'Director', 'o...</td>\n",
       "      <td>1</td>\n",
       "    </tr>\n",
       "    <tr>\n",
       "      <th>3</th>\n",
       "      <td>['On', 'a', 'Muslim', 'dating', 'app', 'and', ...</td>\n",
       "      <td>2</td>\n",
       "    </tr>\n",
       "    <tr>\n",
       "      <th>4</th>\n",
       "      <td>['Haha', 'thatâ\\x80\\x99s', 'why', 'muslim', 's...</td>\n",
       "      <td>2</td>\n",
       "    </tr>\n",
       "    <tr>\n",
       "      <th>...</th>\n",
       "      <td>...</td>\n",
       "      <td>...</td>\n",
       "    </tr>\n",
       "    <tr>\n",
       "      <th>908</th>\n",
       "      <td>[\"'\", '@', 'fjspti', 'We', 'be', 'talk', 'abou...</td>\n",
       "      <td>0</td>\n",
       "    </tr>\n",
       "    <tr>\n",
       "      <th>909</th>\n",
       "      <td>[\"'From\", 'US', 'to', 'UK', 'Kandahar', 'to', ...</td>\n",
       "      <td>0</td>\n",
       "    </tr>\n",
       "    <tr>\n",
       "      <th>910</th>\n",
       "      <td>[\"'Replug\", ':', 'For', '@', 'Reuters', 'on', ...</td>\n",
       "      <td>0</td>\n",
       "    </tr>\n",
       "    <tr>\n",
       "      <th>911</th>\n",
       "      <td>['News', 'in', 'brief', ':', '#', 'smes', '#',...</td>\n",
       "      <td>0</td>\n",
       "    </tr>\n",
       "    <tr>\n",
       "      <th>912</th>\n",
       "      <td>[\"'RT\", '@', 'BizAsia', 'Showbiz', ':', '#', '...</td>\n",
       "      <td>0</td>\n",
       "    </tr>\n",
       "  </tbody>\n",
       "</table>\n",
       "<p>913 rows × 2 columns</p>\n",
       "</div>"
      ],
      "text/plain": [
       "                                                tweets  category\n",
       "0    ['Some', 'of', 'the', 'most', 'beautiful', 'wo...         2\n",
       "1    ['Of', 'course', '#', 'notall', 'Muslims', 'be...         2\n",
       "2    ['Why', 'be', 'JoeBiden', \"'s\", 'Director', 'o...         1\n",
       "3    ['On', 'a', 'Muslim', 'dating', 'app', 'and', ...         2\n",
       "4    ['Haha', 'thatâ\\x80\\x99s', 'why', 'muslim', 's...         2\n",
       "..                                                 ...       ...\n",
       "908  [\"'\", '@', 'fjspti', 'We', 'be', 'talk', 'abou...         0\n",
       "909  [\"'From\", 'US', 'to', 'UK', 'Kandahar', 'to', ...         0\n",
       "910  [\"'Replug\", ':', 'For', '@', 'Reuters', 'on', ...         0\n",
       "911  ['News', 'in', 'brief', ':', '#', 'smes', '#',...         0\n",
       "912  [\"'RT\", '@', 'BizAsia', 'Showbiz', ':', '#', '...         0\n",
       "\n",
       "[913 rows x 2 columns]"
      ]
     },
     "execution_count": 15,
     "metadata": {},
     "output_type": "execute_result"
    }
   ],
   "source": [
    "Corpus"
   ]
  },
  {
   "cell_type": "markdown",
   "metadata": {},
   "source": [
    "##### Splitting 80% for training and 20% for testing"
   ]
  },
  {
   "cell_type": "code",
   "execution_count": 17,
   "metadata": {},
   "outputs": [],
   "source": [
    "X_train, X_test, Y_train, Y_test = model_selection.train_test_split(Corpus['tweets'],\n",
    "                                                                    Corpus['category'],\n",
    "                                                                    test_size=0.3,\n",
    "                                                                    random_state=20)"
   ]
  },
  {
   "cell_type": "code",
   "execution_count": 18,
   "metadata": {},
   "outputs": [],
   "source": [
    "Tfidf_vect = TfidfVectorizer(max_features=1000)\n"
   ]
  },
  {
   "cell_type": "code",
   "execution_count": 19,
   "metadata": {},
   "outputs": [],
   "source": [
    "# Vectorize the words by using TF-IDF Vectorizer - \n",
    "# This is done to find how important a word in document is in comaprison to the corpus\n",
    "Tfidf_vect = TfidfVectorizer(max_features=1000)\n",
    "Tfidf_vect.fit(Corpus['tweets'])\n",
    "\n",
    "#term frequency–inverse document frequencyTForm\n",
    "X_train_Tfidf = Tfidf_vect.transform(X_train)\n",
    "X_test_Tfidf = Tfidf_vect.transform(X_test)"
   ]
  },
  {
   "cell_type": "code",
   "execution_count": 20,
   "metadata": {},
   "outputs": [
    {
     "name": "stdout",
     "output_type": "stream",
     "text": [
      "[LibSVM]\n",
      " -> Accuracy 0.6532846715328468\n",
      "\n",
      " -> Classification Report\n",
      "              precision    recall  f1-score   support\n",
      "\n",
      "           0       0.74      0.88      0.81       119\n",
      "           1       0.67      0.28      0.39        36\n",
      "           2       0.38      0.12      0.19        41\n",
      "           3       0.56      0.76      0.64        78\n",
      "\n",
      "    accuracy                           0.65       274\n",
      "   macro avg       0.59      0.51      0.51       274\n",
      "weighted avg       0.63      0.65      0.61       274\n",
      "\n",
      "\n",
      "-> Classification Report\n",
      "[[105   3   1  10]\n",
      " [ 11  10   3  12]\n",
      " [ 12   0   5  24]\n",
      " [ 13   2   4  59]]\n"
     ]
    }
   ],
   "source": [
    "# classifies data \n",
    "lr = svm.SVC(C=1.0, kernel='linear', degree=3, gamma='auto', random_state=20, verbose=True).fit(X_train_Tfidf, Y_train)\n",
    "yhat = lr.predict(X_test_Tfidf)\n",
    "\n",
    "# the 3 lines below show how to invoke various output    \n",
    "print(\"\\n\",\"-> Accuracy\",accuracy_score(Y_test, yhat))\n",
    "print(\"\\n\",\" -> Classification Report\\n\",classification_report(Y_test, yhat),sep=\"\")\n",
    "print(\"\\n\",\"-> Classification Report\\n\",confusion_matrix(Y_test, yhat),sep=\"\")"
   ]
  },
  {
   "cell_type": "code",
   "execution_count": 21,
   "metadata": {},
   "outputs": [
    {
     "name": "stdout",
     "output_type": "stream",
     "text": [
      "269.81 seconds\n"
     ]
    }
   ],
   "source": [
    "print(\"{:.2f} seconds\".format(time.time() - start_time))"
   ]
  },
  {
   "cell_type": "code",
   "execution_count": null,
   "metadata": {},
   "outputs": [],
   "source": []
  },
  {
   "cell_type": "code",
   "execution_count": 22,
   "metadata": {},
   "outputs": [
    {
     "name": "stdout",
     "output_type": "stream",
     "text": [
      "[LibSVM][LibSVM][LibSVM][LibSVM][LibSVM][LibSVM]"
     ]
    },
    {
     "data": {
      "text/plain": [
       "<matplotlib.collections.PathCollection at 0x7fd73bb84f50>"
      ]
     },
     "execution_count": 22,
     "metadata": {},
     "output_type": "execute_result"
    },
    {
     "data": {
      "image/png": "[encoded data removed]",
      "text/plain": [
       "<Figure size 432x288 with 1 Axes>"
      ]
     },
     "metadata": {
      "needs_background": "light"
     },
     "output_type": "display_data"
    }
   ],
   "source": [
    "\n",
    "\n",
    "# Necessary imports: \n",
    "from sklearn.model_selection import cross_val_score, cross_val_predict\n",
    "from sklearn import metrics\n",
    "\n",
    "# Make cross validated predictions\n",
    "predictions = cross_val_predict(lr, X_train_Tfidf, Y_train, cv=6)\n",
    "plt.scatter(Y_train, predictions)"
   ]
  },
  {
   "cell_type": "code",
   "execution_count": null,
   "metadata": {},
   "outputs": [],
   "source": []
  },
  {
   "cell_type": "code",
   "execution_count": 24,
   "metadata": {},
   "outputs": [
    {
     "data": {
      "image/png": "[encoded data removed]",
      "text/plain": [
       "<Figure size 432x288 with 1 Axes>"
      ]
     },
     "metadata": {
      "needs_background": "light"
     },
     "output_type": "display_data"
    }
   ],
   "source": [
    "from nltk.tokenize import word_tokenize\n",
    "from nltk.probability import FreqDist\n",
    "tokenized_word=[]\n",
    "fdist = FreqDist()\n",
    "for i in Corpus.tweets:\n",
    "  \n",
    "    for word in word_tokenize(i):\n",
    "        fdist[word] += 1\n",
    "        \n",
    "fdist.plot(20,cumulative=False)\n",
    "plt.show()"
   ]
  },
  {
   "cell_type": "code",
   "execution_count": null,
   "metadata": {},
   "outputs": [],
   "source": []
  }
 ],
 "metadata": {
  "kernelspec": {
   "display_name": "Python 3",
   "language": "python",
   "name": "python3"
  },
  "language_info": {
   "codemirror_mode": {
    "name": "ipython",
    "version": 3
   },
   "file_extension": ".py",
   "mimetype": "text/x-python",
   "name": "python",
   "nbconvert_exporter": "python",
   "pygments_lexer": "ipython3",
   "version": "3.7.7"
  }
 },
 "nbformat": 4,
 "nbformat_minor": 4
}

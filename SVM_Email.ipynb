{
 "cells": [
  {
   "cell_type": "markdown",
   "metadata": {},
   "source": [
    "# Support Vector Machine\n",
    "### Luis Chunga"
   ]
  },
  {
   "cell_type": "code",
   "execution_count": 1,
   "metadata": {},
   "outputs": [],
   "source": [
    "from sklearn.feature_extraction.text import TfidfVectorizer\n",
    "from sklearn import model_selection, svm\n",
    "from nltk.tokenize import word_tokenize\n",
    "from nltk.stem import WordNetLemmatizer\n",
    "from sklearn.metrics import classification_report\n",
    "from sklearn.metrics import accuracy_score\n",
    "from sklearn.metrics import confusion_matrix\n",
    "from collections import defaultdict\n",
    "from nltk.corpus import wordnet as wn\n",
    "import numpy as np\n",
    "import seaborn as sns\n",
    "import matplotlib.pyplot as plt\n",
    "from nltk import pos_tag\n",
    "import pandas as pd\n",
    "import time\n"
   ]
  },
  {
   "cell_type": "code",
   "execution_count": 2,
   "metadata": {},
   "outputs": [
    {
     "data": {
      "text/html": [
       "<div>\n",
       "<style scoped>\n",
       "    .dataframe tbody tr th:only-of-type {\n",
       "        vertical-align: middle;\n",
       "    }\n",
       "\n",
       "    .dataframe tbody tr th {\n",
       "        vertical-align: top;\n",
       "    }\n",
       "\n",
       "    .dataframe thead th {\n",
       "        text-align: right;\n",
       "    }\n",
       "</style>\n",
       "<table border=\"1\" class=\"dataframe\">\n",
       "  <thead>\n",
       "    <tr style=\"text-align: right;\">\n",
       "      <th></th>\n",
       "      <th>email</th>\n",
       "      <th>category</th>\n",
       "    </tr>\n",
       "  </thead>\n",
       "  <tbody>\n",
       "    <tr>\n",
       "      <th>0</th>\n",
       "      <td>this cp has merged into pancanadian energy ser...</td>\n",
       "      <td>0</td>\n",
       "    </tr>\n",
       "    <tr>\n",
       "      <th>1</th>\n",
       "      <td>this morning roman blake with calp told robin ...</td>\n",
       "      <td>0</td>\n",
       "    </tr>\n",
       "    <tr>\n",
       "      <th>2</th>\n",
       "      <td>kay please forward to max yzaguirre max congra...</td>\n",
       "      <td>0</td>\n",
       "    </tr>\n",
       "    <tr>\n",
       "      <th>3</th>\n",
       "      <td>k how s life back in texas i am not sure if i ...</td>\n",
       "      <td>0</td>\n",
       "    </tr>\n",
       "    <tr>\n",
       "      <th>4</th>\n",
       "      <td>sent on behalf of laurie pare attached is my m...</td>\n",
       "      <td>0</td>\n",
       "    </tr>\n",
       "    <tr>\n",
       "      <th>...</th>\n",
       "      <td>...</td>\n",
       "      <td>...</td>\n",
       "    </tr>\n",
       "    <tr>\n",
       "      <th>2853</th>\n",
       "      <td>on line gaming report special online issue inv...</td>\n",
       "      <td>1</td>\n",
       "    </tr>\n",
       "    <tr>\n",
       "      <th>2854</th>\n",
       "      <td>account suspension dear paypal user in accorda...</td>\n",
       "      <td>1</td>\n",
       "    </tr>\n",
       "    <tr>\n",
       "      <th>2855</th>\n",
       "      <td>small cap stoxs can mean gains for you watch t...</td>\n",
       "      <td>1</td>\n",
       "    </tr>\n",
       "    <tr>\n",
       "      <th>2856</th>\n",
       "      <td>roletes e roldanas para empilhadeiras santos j...</td>\n",
       "      <td>1</td>\n",
       "    </tr>\n",
       "    <tr>\n",
       "      <th>2857</th>\n",
       "      <td>x origin farmer d your online sales are low be...</td>\n",
       "      <td>1</td>\n",
       "    </tr>\n",
       "  </tbody>\n",
       "</table>\n",
       "<p>2858 rows × 2 columns</p>\n",
       "</div>"
      ],
      "text/plain": [
       "                                                  email  category\n",
       "0     this cp has merged into pancanadian energy ser...         0\n",
       "1     this morning roman blake with calp told robin ...         0\n",
       "2     kay please forward to max yzaguirre max congra...         0\n",
       "3     k how s life back in texas i am not sure if i ...         0\n",
       "4     sent on behalf of laurie pare attached is my m...         0\n",
       "...                                                 ...       ...\n",
       "2853  on line gaming report special online issue inv...         1\n",
       "2854  account suspension dear paypal user in accorda...         1\n",
       "2855  small cap stoxs can mean gains for you watch t...         1\n",
       "2856  roletes e roldanas para empilhadeiras santos j...         1\n",
       "2857  x origin farmer d your online sales are low be...         1\n",
       "\n",
       "[2858 rows x 2 columns]"
      ]
     },
     "execution_count": 2,
     "metadata": {},
     "output_type": "execute_result"
    }
   ],
   "source": [
    "start_time = time.time()\n",
    "# Add the Data using pandas\n",
    "Corpus = pd.read_csv(\"input/batches/email_batch_40.csv\",encoding='latin')\n",
    "Corpus"
   ]
  },
  {
   "cell_type": "code",
   "execution_count": 3,
   "metadata": {},
   "outputs": [
    {
     "data": {
      "text/html": [
       "<div>\n",
       "<style scoped>\n",
       "    .dataframe tbody tr th:only-of-type {\n",
       "        vertical-align: middle;\n",
       "    }\n",
       "\n",
       "    .dataframe tbody tr th {\n",
       "        vertical-align: top;\n",
       "    }\n",
       "\n",
       "    .dataframe thead tr th {\n",
       "        text-align: left;\n",
       "    }\n",
       "\n",
       "    .dataframe thead tr:last-of-type th {\n",
       "        text-align: right;\n",
       "    }\n",
       "</style>\n",
       "<table border=\"1\" class=\"dataframe\">\n",
       "  <thead>\n",
       "    <tr>\n",
       "      <th></th>\n",
       "      <th colspan=\"4\" halign=\"left\">email</th>\n",
       "    </tr>\n",
       "    <tr>\n",
       "      <th></th>\n",
       "      <th>count</th>\n",
       "      <th>unique</th>\n",
       "      <th>top</th>\n",
       "      <th>freq</th>\n",
       "    </tr>\n",
       "    <tr>\n",
       "      <th>category</th>\n",
       "      <th></th>\n",
       "      <th></th>\n",
       "      <th></th>\n",
       "      <th></th>\n",
       "    </tr>\n",
       "  </thead>\n",
       "  <tbody>\n",
       "    <tr>\n",
       "      <th>0</th>\n",
       "      <td>1497</td>\n",
       "      <td>1469</td>\n",
       "      <td>start date hourahead hour no ancillary schedul...</td>\n",
       "      <td>13</td>\n",
       "    </tr>\n",
       "    <tr>\n",
       "      <th>1</th>\n",
       "      <td>1360</td>\n",
       "      <td>1355</td>\n",
       "      <td>delivery status notification these recipients ...</td>\n",
       "      <td>2</td>\n",
       "    </tr>\n",
       "  </tbody>\n",
       "</table>\n",
       "</div>"
      ],
      "text/plain": [
       "         email                                                               \n",
       "         count unique                                                top freq\n",
       "category                                                                     \n",
       "0         1497   1469  start date hourahead hour no ancillary schedul...   13\n",
       "1         1360   1355  delivery status notification these recipients ...    2"
      ]
     },
     "execution_count": 3,
     "metadata": {},
     "output_type": "execute_result"
    }
   ],
   "source": [
    "### The dataset has 2 class, which 0 is Email and 1 is spam \n",
    "### There are 2033 unique email out of 2087 \n",
    "### There are 1356 unique spam out of 1360 \n",
    "\n",
    "Corpus.groupby('category').describe()"
   ]
  },
  {
   "cell_type": "code",
   "execution_count": 4,
   "metadata": {},
   "outputs": [
    {
     "data": {
      "text/plain": [
       "Text(0.5, 1.0, 'Number of Emails and Spams')"
      ]
     },
     "execution_count": 4,
     "metadata": {},
     "output_type": "execute_result"
    },
    {
     "data": {
      "image/png": "[encoded data removed]",
      "text/plain": [
       "<Figure size 432x288 with 1 Axes>"
      ]
     },
     "metadata": {
      "needs_background": "light"
     },
     "output_type": "display_data"
    }
   ],
   "source": [
    "# Display\n",
    "sns.countplot(Corpus.category)\n",
    "plt.xlabel('Email                Spam')\n",
    "plt.title('Number of Emails and Spams')"
   ]
  },
  {
   "cell_type": "code",
   "execution_count": 5,
   "metadata": {},
   "outputs": [],
   "source": [
    "# Initializing WordNetLemmatizer()\n",
    "word_Lemmatized = WordNetLemmatizer()"
   ]
  },
  {
   "cell_type": "code",
   "execution_count": 6,
   "metadata": {},
   "outputs": [],
   "source": [
    "\n",
    "# WordNetLemmatizer requires Pos tags to understand if the word is noun or verb or adjective etc. \n",
    "# By default it is set to Noun\n",
    "tag_map = defaultdict(lambda : wn.NOUN)\n",
    "tag_map['J'] = wn.ADJ\n",
    "tag_map['V'] = wn.VERB\n",
    "tag_map['R'] = wn.ADV"
   ]
  },
  {
   "cell_type": "code",
   "execution_count": 7,
   "metadata": {},
   "outputs": [],
   "source": [
    "#In this each entry in the corpus will be broken into set of words\n",
    "Corpus['email']= [word_tokenize(str(entry)) for entry in Corpus['email']]"
   ]
  },
  {
   "cell_type": "code",
   "execution_count": 8,
   "metadata": {},
   "outputs": [],
   "source": [
    "# IT lematize the corpus and convert the tokenize word to a list of string \n",
    "# Removing number\n",
    "\n",
    "for index,entry in enumerate(Corpus['email']):\n",
    "    # Declaring Empty List to store the words that follow the rules for this step\n",
    "    Final_words = []\n",
    "   \n",
    "    # pos_tag function below will provide the 'tag' \n",
    "    # if the word is Noun(N) or Verb(V) or something else.\n",
    "    for word, tag in pos_tag(entry):\n",
    "        word_Final = word_Lemmatized.lemmatize(word,tag_map[tag[0]])\n",
    "        Final_words.append(word_Final)\n",
    "    \n",
    "    Corpus.loc[index,'email'] = str(Final_words)\n"
   ]
  },
  {
   "cell_type": "code",
   "execution_count": 9,
   "metadata": {},
   "outputs": [
    {
     "data": {
      "text/html": [
       "<div>\n",
       "<style scoped>\n",
       "    .dataframe tbody tr th:only-of-type {\n",
       "        vertical-align: middle;\n",
       "    }\n",
       "\n",
       "    .dataframe tbody tr th {\n",
       "        vertical-align: top;\n",
       "    }\n",
       "\n",
       "    .dataframe thead th {\n",
       "        text-align: right;\n",
       "    }\n",
       "</style>\n",
       "<table border=\"1\" class=\"dataframe\">\n",
       "  <thead>\n",
       "    <tr style=\"text-align: right;\">\n",
       "      <th></th>\n",
       "      <th>email</th>\n",
       "      <th>category</th>\n",
       "    </tr>\n",
       "  </thead>\n",
       "  <tbody>\n",
       "    <tr>\n",
       "      <th>0</th>\n",
       "      <td>['this', 'cp', 'have', 'merge', 'into', 'panca...</td>\n",
       "      <td>0</td>\n",
       "    </tr>\n",
       "    <tr>\n",
       "      <th>1</th>\n",
       "      <td>['this', 'morning', 'roman', 'blake', 'with', ...</td>\n",
       "      <td>0</td>\n",
       "    </tr>\n",
       "    <tr>\n",
       "      <th>2</th>\n",
       "      <td>['kay', 'please', 'forward', 'to', 'max', 'yza...</td>\n",
       "      <td>0</td>\n",
       "    </tr>\n",
       "    <tr>\n",
       "      <th>3</th>\n",
       "      <td>['k', 'how', 's', 'life', 'back', 'in', 'texas...</td>\n",
       "      <td>0</td>\n",
       "    </tr>\n",
       "    <tr>\n",
       "      <th>4</th>\n",
       "      <td>['send', 'on', 'behalf', 'of', 'laurie', 'pare...</td>\n",
       "      <td>0</td>\n",
       "    </tr>\n",
       "    <tr>\n",
       "      <th>...</th>\n",
       "      <td>...</td>\n",
       "      <td>...</td>\n",
       "    </tr>\n",
       "    <tr>\n",
       "      <th>2853</th>\n",
       "      <td>['on', 'line', 'game', 'report', 'special', 'o...</td>\n",
       "      <td>1</td>\n",
       "    </tr>\n",
       "    <tr>\n",
       "      <th>2854</th>\n",
       "      <td>['account', 'suspension', 'dear', 'paypal', 'u...</td>\n",
       "      <td>1</td>\n",
       "    </tr>\n",
       "    <tr>\n",
       "      <th>2855</th>\n",
       "      <td>['small', 'cap', 'stoxs', 'can', 'mean', 'gain...</td>\n",
       "      <td>1</td>\n",
       "    </tr>\n",
       "    <tr>\n",
       "      <th>2856</th>\n",
       "      <td>['roletes', 'e', 'roldanas', 'para', 'empilhad...</td>\n",
       "      <td>1</td>\n",
       "    </tr>\n",
       "    <tr>\n",
       "      <th>2857</th>\n",
       "      <td>['x', 'origin', 'farmer', 'd', 'your', 'online...</td>\n",
       "      <td>1</td>\n",
       "    </tr>\n",
       "  </tbody>\n",
       "</table>\n",
       "<p>2858 rows × 2 columns</p>\n",
       "</div>"
      ],
      "text/plain": [
       "                                                  email  category\n",
       "0     ['this', 'cp', 'have', 'merge', 'into', 'panca...         0\n",
       "1     ['this', 'morning', 'roman', 'blake', 'with', ...         0\n",
       "2     ['kay', 'please', 'forward', 'to', 'max', 'yza...         0\n",
       "3     ['k', 'how', 's', 'life', 'back', 'in', 'texas...         0\n",
       "4     ['send', 'on', 'behalf', 'of', 'laurie', 'pare...         0\n",
       "...                                                 ...       ...\n",
       "2853  ['on', 'line', 'game', 'report', 'special', 'o...         1\n",
       "2854  ['account', 'suspension', 'dear', 'paypal', 'u...         1\n",
       "2855  ['small', 'cap', 'stoxs', 'can', 'mean', 'gain...         1\n",
       "2856  ['roletes', 'e', 'roldanas', 'para', 'empilhad...         1\n",
       "2857  ['x', 'origin', 'farmer', 'd', 'your', 'online...         1\n",
       "\n",
       "[2858 rows x 2 columns]"
      ]
     },
     "execution_count": 9,
     "metadata": {},
     "output_type": "execute_result"
    }
   ],
   "source": [
    "Corpus"
   ]
  },
  {
   "cell_type": "markdown",
   "metadata": {},
   "source": [
    "##### Splitting 80% for training and 20% for testing"
   ]
  },
  {
   "cell_type": "code",
   "execution_count": 10,
   "metadata": {},
   "outputs": [],
   "source": [
    "X_train, X_test, Y_train, Y_test = model_selection.train_test_split(Corpus['email'],\n",
    "                                                                    Corpus['category'],\n",
    "                                                                    test_size=0.2,\n",
    "                                                                    random_state=20)"
   ]
  },
  {
   "cell_type": "code",
   "execution_count": 11,
   "metadata": {},
   "outputs": [],
   "source": [
    "Tfidf_vect = TfidfVectorizer(max_features=1000)\n"
   ]
  },
  {
   "cell_type": "code",
   "execution_count": 12,
   "metadata": {},
   "outputs": [],
   "source": [
    "# Vectorize the words by using TF-IDF Vectorizer - \n",
    "# This is done to find how important a word in document is in comaprison to the corpus\n",
    "Tfidf_vect = TfidfVectorizer(max_features=1000)\n",
    "Tfidf_vect.fit(Corpus['email'])\n",
    "\n",
    "#term frequency–inverse document frequencyTForm\n",
    "X_train_Tfidf = Tfidf_vect.transform(X_train)\n",
    "X_test_Tfidf = Tfidf_vect.transform(X_test)"
   ]
  },
  {
   "cell_type": "code",
   "execution_count": 13,
   "metadata": {},
   "outputs": [
    {
     "name": "stdout",
     "output_type": "stream",
     "text": [
      "[LibSVM]\n",
      " -> Accuracy 0.9545454545454546\n",
      "\n",
      " -> Classification Report\n",
      "              precision    recall  f1-score   support\n",
      "\n",
      "           0       0.97      0.95      0.96       312\n",
      "           1       0.94      0.96      0.95       260\n",
      "\n",
      "    accuracy                           0.95       572\n",
      "   macro avg       0.95      0.96      0.95       572\n",
      "weighted avg       0.95      0.95      0.95       572\n",
      "\n",
      "\n",
      "-> Classification Report\n",
      "[[296  16]\n",
      " [ 10 250]]\n"
     ]
    }
   ],
   "source": [
    "# classifies data \n",
    "lr = svm.SVC(C=1.0, kernel='linear', degree=3, gamma='auto', random_state=20, verbose=True).fit(X_train_Tfidf, Y_train)\n",
    "yhat = lr.predict(X_test_Tfidf)\n",
    "\n",
    "# the 3 lines below show how to invoke various output    \n",
    "print(\"\\n\",\"-> Accuracy\",accuracy_score(Y_test, yhat))\n",
    "print(\"\\n\",\" -> Classification Report\\n\",classification_report(Y_test, yhat),sep=\"\")\n",
    "print(\"\\n\",\"-> Classification Report\\n\",confusion_matrix(Y_test, yhat),sep=\"\")"
   ]
  },
  {
   "cell_type": "code",
   "execution_count": 14,
   "metadata": {},
   "outputs": [
    {
     "name": "stdout",
     "output_type": "stream",
     "text": [
      "182.63 seconds\n"
     ]
    }
   ],
   "source": [
    "print(\"{:.2f} seconds\".format(time.time() - start_time))"
   ]
  },
  {
   "cell_type": "code",
   "execution_count": null,
   "metadata": {},
   "outputs": [],
   "source": []
  },
  {
   "cell_type": "code",
   "execution_count": 15,
   "metadata": {},
   "outputs": [
    {
     "name": "stdout",
     "output_type": "stream",
     "text": [
      "[LibSVM][LibSVM][LibSVM][LibSVM][LibSVM][LibSVM]"
     ]
    },
    {
     "data": {
      "text/plain": [
       "<matplotlib.collections.PathCollection at 0x7f7252c645d0>"
      ]
     },
     "execution_count": 15,
     "metadata": {},
     "output_type": "execute_result"
    },
    {
     "data": {
      "image/png": "[encoded data removed]",
      "text/plain": [
       "<Figure size 432x288 with 1 Axes>"
      ]
     },
     "metadata": {
      "needs_background": "light"
     },
     "output_type": "display_data"
    }
   ],
   "source": [
    "\n",
    "\n",
    "# Necessary imports: \n",
    "from sklearn.model_selection import cross_val_score, cross_val_predict\n",
    "from sklearn import metrics\n",
    "\n",
    "# Make cross validated predictions\n",
    "predictions = cross_val_predict(lr, X_train_Tfidf, Y_train, cv=6)\n",
    "plt.scatter(Y_train, predictions)"
   ]
  },
  {
   "cell_type": "code",
   "execution_count": null,
   "metadata": {},
   "outputs": [],
   "source": []
  },
  {
   "cell_type": "code",
   "execution_count": 16,
   "metadata": {},
   "outputs": [
    {
     "data": {
      "image/png": "[encoded data removed]",
      "text/plain": [
       "<Figure size 432x288 with 1 Axes>"
      ]
     },
     "metadata": {
      "needs_background": "light"
     },
     "output_type": "display_data"
    }
   ],
   "source": [
    "from nltk.tokenize import word_tokenize\n",
    "from nltk.probability import FreqDist\n",
    "tokenized_word=[]\n",
    "fdist = FreqDist()\n",
    "for i in Corpus.email:\n",
    "  \n",
    "    for word in word_tokenize(i):\n",
    "        fdist[word] += 1\n",
    "        \n",
    "fdist.plot(20,cumulative=False)\n",
    "plt.show()"
   ]
  },
  {
   "cell_type": "markdown",
   "metadata": {},
   "source": [
    "# Running non-spam email against all dataset"
   ]
  },
  {
   "cell_type": "code",
   "execution_count": 26,
   "metadata": {},
   "outputs": [
    {
     "name": "stdout",
     "output_type": "stream",
     "text": [
      "6489.41 seconds\n"
     ]
    }
   ],
   "source": [
    "# CHANGE TO CODE \n",
    "from os import listdir\n",
    "from os import path\n",
    "\n",
    "start_time = time.time()\n",
    "input_path = 'input/batches/'\n",
    "paths = listdir(input_path)\n",
    "number_of_runs= 49\n",
    "total = 0\n",
    "points=[]\n",
    "total_acc = 0\n",
    "\n",
    "press1T=0.0; recall1T=0.0; f1_s1T=0.0; supp1T=0.0\n",
    "press2T=0.0; recall2T=0.0; f1_s2T=0.0; supp2T=0.0\n",
    "f1_s3T=0.0; supp3T=0.0\n",
    "press4T=0.0; recall4T=0.0; f1_s4T=0.0; supp4T=0.0\n",
    "press5T=0.0; recall5T=0.0; f1_s5T=0.0; supp5T=0.0\n",
    "\n",
    "mat = np.zeros((2, 2))\n",
    "\n",
    "start_time = time.time()\n",
    "\n",
    "for i in range(number_of_runs):\n",
    "    if '.ipynb_checkpoints' in paths[i]:\n",
    "        continue\n",
    "\n",
    "    corpus = pd.read_csv(input_path+paths[i],encoding = \"latin\")\n",
    "    \n",
    "    #In this each entry in the corpus will be broken into set of words\n",
    "    corpus['email']= [word_tokenize(str(entry)) for entry in corpus['email']]\n",
    "    \n",
    "    \n",
    "    for index,entry in enumerate(corpus['email']):\n",
    "        Final_words = []\n",
    "        for word, tag in pos_tag(entry):\n",
    "            word_Final = word_Lemmatized.lemmatize(word,tag_map[tag[0]])\n",
    "            Final_words.append(word_Final)\n",
    "\n",
    "        corpus.loc[index,'email'] = str(Final_words)\n",
    "        \n",
    "    X_train, X_test, Y_train, Y_test = model_selection.train_test_split(corpus['email'],\n",
    "                                                                    corpus['category'],\n",
    "                                                                    test_size=0.2,\n",
    "                                                                    random_state=20)\n",
    "    Tfidf_vect.fit(corpus['email'])\n",
    "\n",
    "    #term frequency–inverse document frequencyTForm\n",
    "    X_train_Tfidf = Tfidf_vect.transform(X_train)\n",
    "    X_test_Tfidf = Tfidf_vect.transform(X_test)\n",
    "    lr = svm.SVC(C=1.0, kernel='linear', degree=3, gamma='auto', random_state=20).fit(X_train_Tfidf, Y_train)\n",
    "    yhat = lr.predict(X_test_Tfidf)\n",
    "    \n",
    "    acc =accuracy_score(Y_test, yhat)\n",
    "    class_report = classification_report(Y_test, yhat)\n",
    "    class_report = class_report.split('\\n')\n",
    "    \n",
    "    press1, recall1, f1_s1, supp1 =  [float(i) for i in class_report[2].split()[1:]]\n",
    "    press1T+=press1; recall1T+=recall1; f1_s1T+=f1_s1; supp1T+=supp1\n",
    "    \n",
    "    press2, recall2, f1_s2, supp2 =  [float(i) for i in class_report[3].split()[1:]]\n",
    "    press2T+=press2; recall2T+=recall2; f1_s2T+=f1_s2; supp2T+=supp2\n",
    "    \n",
    "    f1_s3, supp3 = [float(i) for i in class_report[5].split()[1:]]\n",
    "    f1_s3T+=f1_s3; supp3T+=supp3\n",
    "    \n",
    "    press4, recall4, f1_s4, supp4 = [float(i) for i in class_report[6].split()[2:]]\n",
    "    press4T+=press4; recall4T+=recall4; f1_s4T+=f1_s4; supp4T+=supp4\n",
    "    \n",
    "    \n",
    "    press5, recall5, f1_s5, supp5 = [float(i) for i in class_report[7].split()[2:]]\n",
    "    press5T+=press5; recall5T+=recall5; f1_s5T+=f1_s5; supp5T+=supp5\n",
    "    \n",
    "    \n",
    "    con_mat = confusion_matrix(Y_test, yhat)  \n",
    "    \n",
    "    for i in range(len(mat)):\n",
    "        for j in range(len(mat[i])):\n",
    "            mat[i][j] += con_mat[i][j]\n",
    "    \n",
    "    acc = accuracy_score(Y_test, yhat)\n",
    "    points.append(acc)\n",
    "    total_acc+=acc\n",
    "    total +=1 \n",
    "\n",
    "print(\"{:.2f} seconds\".format(time.time() - start_time))"
   ]
  },
  {
   "cell_type": "code",
   "execution_count": 27,
   "metadata": {},
   "outputs": [
    {
     "name": "stdout",
     "output_type": "stream",
     "text": [
      "-> Accuracy 0.9509348375646537\n",
      "\n",
      "  -> Classification Report\n",
      "\n",
      "              precision    recall  f1-score   support \n",
      "           0       0.96      0.94      0.95       311\n",
      "           1       0.94      0.96      0.95       261\n",
      "\n",
      "    accuracy                           0.95       572\n",
      "   macro avg       0.95      0.95      0.95       572\n",
      "weighted avg       0.95      0.95      0.95       572\n",
      "\n",
      " -> Classification Report\n",
      "\n",
      "14084  834\n",
      "513  12022\n"
     ]
    }
   ],
   "source": [
    "# the 3 lines below show how to invoke various output    \n",
    "print(\"-> Accuracy\",total_acc/total)\n",
    "\n",
    "print(\"\\n\",\" -> Classification Report\\n\")\n",
    "\n",
    "print('{0:13} {1:12s} {2:7s} {3:10s} {4:8s}'.format(' ' , 'precision', 'recall', 'f1-score' , 'support'))\n",
    "\n",
    "print('{0:9}  {1:6s} {2:5.2f} {3:9.2f} {4:9.2f} {5:9.0f}'.format( ' ','0',press1T/total, recall1T/total, f1_s1T/total, supp1T/total))\n",
    "print('{0:9}  {1:6s} {2:5.2f} {3:9.2f} {4:9.2f} {5:9.0f}\\n'.format( ' ','1',press2T/total, recall2T/total, f1_s2T/total, supp2T/total))\n",
    "print('{0:2}  {1:33s} {2:5.2f} {3:9.0f}'.format( ' ','accuracy',f1_s3T/total, supp3T/total))\n",
    "print('{0:1}  {1:14s} {2:5.2f} {3:9.2f} {4:9.2f} {5:9.0f}'.format( ' ','macro avg',press4T/total, recall4T/total, f1_s4T/total, supp4T/total))\n",
    "print('{0:17s} {1:5.2f} {2:9.2f} {3:9.2f} {4:9.0f}'.format( 'weighted avg',press5T/total, recall5T/total, f1_s5T/total, supp5T/total))\n",
    "\n",
    "print(\"\\n\",\"-> Classification Report\\n\")\n",
    "\n",
    "print('{0:.0f}  {1:.0f}'.format(mat[0][0], mat[0][1]))\n",
    "print('{0:.0f}  {1:.0f}'.format(mat[1][0], mat[1][1]))\n"
   ]
  },
  {
   "cell_type": "code",
   "execution_count": 29,
   "metadata": {},
   "outputs": [
    {
     "data": {
      "text/plain": [
       "<matplotlib.legend.Legend at 0x7f72521cbe10>"
      ]
     },
     "execution_count": 29,
     "metadata": {},
     "output_type": "execute_result"
    },
    {
     "data": {
      "image/png": "[encoded data removed]",
      "text/plain": [
       "<Figure size 432x288 with 1 Axes>"
      ]
     },
     "metadata": {
      "needs_background": "light"
     },
     "output_type": "display_data"
    }
   ],
   "source": [
    "# summarize history for accuracy\n",
    "\n",
    "plt.plot(points) \n",
    "plt.title('Support VectorMachine model accuracy') \n",
    "plt.ylabel('accuracy')\n",
    "plt.xlabel('run')\n",
    "plt.legend(['acc'], loc='upper left')"
   ]
  },
  {
   "cell_type": "code",
   "execution_count": 32,
   "metadata": {},
   "outputs": [
    {
     "data": {
      "image/png": "[encoded data removed]",
      "text/plain": [
       "<Figure size 432x288 with 2 Axes>"
      ]
     },
     "metadata": {
      "needs_background": "light"
     },
     "output_type": "display_data"
    }
   ],
   "source": [
    "import seaborn as sns\n",
    "cf_matrix = np.array([[14084,  834], [513,  12022]])\n",
    "group_names = ['True Neg','False Pos','False Neg','True Pos']\n",
    "categories = ['spam', 'non-spam']\n",
    "group_counts = ['{0:0.0f}'.format(value) for value in\n",
    "                cf_matrix.flatten()]\n",
    "group_percentages = ['{0:.2%}'.format(value) for value in cf_matrix.flatten()/np.sum(cf_matrix)]\n",
    "\n",
    "labels = [f\"{v1}\\n{v2}\\n{v3}\" for v1, v2, v3 in\n",
    "          zip(group_names,group_counts,group_percentages)]\n",
    "\n",
    "labels = np.asarray(labels).reshape(2,2)\n",
    "\n",
    "sns.heatmap(cf_matrix, annot=labels,xticklabels=categories, yticklabels=categories, fmt='', cmap='Blues')\n",
    "\n",
    "plt.ylabel('True label')\n",
    "plt.xlabel('Predicted label')\n",
    "plt.title(\"Support Vector Machine Confusion Matrix\")\n",
    "plt.show()\n"
   ]
  },
  {
   "cell_type": "code",
   "execution_count": null,
   "metadata": {},
   "outputs": [],
   "source": []
  },
  {
   "cell_type": "code",
   "execution_count": null,
   "metadata": {},
   "outputs": [],
   "source": []
  },
  {
   "cell_type": "code",
   "execution_count": null,
   "metadata": {},
   "outputs": [],
   "source": []
  }
 ],
 "metadata": {
  "kernelspec": {
   "display_name": "Python 3",
   "language": "python",
   "name": "python3"
  },
  "language_info": {
   "codemirror_mode": {
    "name": "ipython",
    "version": 3
   },
   "file_extension": ".py",
   "mimetype": "text/x-python",
   "name": "python",
   "nbconvert_exporter": "python",
   "pygments_lexer": "ipython3",
   "version": "3.7.6"
  }
 },
 "nbformat": 4,
 "nbformat_minor": 4
}

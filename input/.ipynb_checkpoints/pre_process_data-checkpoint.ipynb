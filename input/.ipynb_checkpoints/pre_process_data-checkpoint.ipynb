{
 "cells": [
  {
   "cell_type": "code",
   "execution_count": 38,
   "metadata": {},
   "outputs": [],
   "source": [
    "\n",
    "import pandas as pd\n",
    "import random \n",
    "from os import listdir\n",
    "from os import path\n",
    "import csv\n",
    "import re\n",
    "from nltk.corpus import stopwords\n",
    "from nltk.tokenize import word_tokenize\n",
    "from nltk.tokenize import RegexpTokenizer\n"
   ]
  },
  {
   "cell_type": "code",
   "execution_count": 100,
   "metadata": {},
   "outputs": [],
   "source": [
    "tokenizer = RegexpTokenizer(r'\\w+')\n",
    "stop_words = stopwords.words('english')\n",
    "max_email = 2000\n",
    "max_spam = 2000"
   ]
  },
  {
   "cell_type": "code",
   "execution_count": 101,
   "metadata": {},
   "outputs": [],
   "source": [
    "\n",
    "# This function gets the emails from the junk email folder\n",
    "def get_spam_email(): \n",
    "    spam_path=[]\n",
    "    path_mail = 'maildir'\n",
    "\n",
    "    for maildir in listdir(path_mail):\n",
    "        maildir_path = path.join(path_mail, maildir)\n",
    "\n",
    "        for mails in listdir(maildir_path):\n",
    "            emails_spam = path.join(maildir_path, mails)\n",
    "\n",
    "            if 'junk_email' == mails:   \n",
    "                #print(emails_spam)\n",
    "                for e in listdir(emails_spam):\n",
    "                    #print(e)\n",
    "                    if '.ipynb_checkpoints' == e:\n",
    "                        continue               \n",
    "                    spam_path.append(path.join(emails_spam, e))\n",
    "                    \n",
    "                    if len(spam_path) > max_spam:\n",
    "                        break\n",
    "            \n",
    "    return spam_path"
   ]
  },
  {
   "cell_type": "code",
   "execution_count": 102,
   "metadata": {},
   "outputs": [],
   "source": [
    "\n",
    "def get_emails():\n",
    "    email_path=[]\n",
    "    path_mail = 'maildir'\n",
    "\n",
    "    for maildir in listdir(path_mail):\n",
    "        maildir_path = path.join(path_mail, maildir)\n",
    "\n",
    "        for mails in listdir(maildir_path):\n",
    "            emails_spam = path.join(maildir_path, mails)\n",
    "\n",
    "            if 'sent' == mails:   \n",
    "                #print(emails_spam)\n",
    "                for e in listdir(emails_spam):\n",
    "                    #print(e)\n",
    "                    if '.ipynb_checkpoints' == e:\n",
    "                        continue               \n",
    "                    email_path.append(path.join(emails_spam, e))\n",
    "\n",
    "                    if len(email_path) > max_email:\n",
    "                        break\n",
    "    return email_path"
   ]
  },
  {
   "cell_type": "code",
   "execution_count": 103,
   "metadata": {},
   "outputs": [],
   "source": [
    "spam_email_path = get_spam_email()"
   ]
  },
  {
   "cell_type": "code",
   "execution_count": 104,
   "metadata": {},
   "outputs": [],
   "source": [
    "email_path=get_emails()"
   ]
  },
  {
   "cell_type": "code",
   "execution_count": 105,
   "metadata": {},
   "outputs": [],
   "source": [
    "# It tokenize the sentences and remove the stop words \n",
    "def tokenize_rm_stop_word(line):\n",
    "    line = tokenizer.tokenize(line)\n",
    "    line = [w for w in line if not w in stop_words]       \n",
    "    return line "
   ]
  },
  {
   "cell_type": "code",
   "execution_count": 145,
   "metadata": {},
   "outputs": [],
   "source": [
    "spam_text=[]\n",
    "for em_sp_path in spam_email_path:\n",
    "    with open (em_sp_path) as read:\n",
    "        line = read.readlines()[15:]\n",
    "        temp=[]\n",
    "        for ln in line:\n",
    "            ln = ln.lower().strip()\n",
    "            if len(ln) == 0:\n",
    "                continue\n",
    "            # removing all character that is not a letter or number\n",
    "            ln2 = re.sub(r'[^a-zA-Z0-9\\s]', ' ', ln)\n",
    "            ln2 = ln2.split()\n",
    "            ln2 = ' '.join(ln2)\n",
    "            # remove stop workds\n",
    "            #ln3 = tokenize_rm_stop_word(ln2)\n",
    "            # make it string again \n",
    "            #ln3 = ' '.join(ln3)\n",
    "            temp.append(ln2)\n",
    "\n",
    "        spam_text.append(' '.join(temp))\n",
    "    "
   ]
  },
  {
   "cell_type": "code",
   "execution_count": 146,
   "metadata": {},
   "outputs": [
    {
     "data": {
      "text/plain": [
       "['naturally irresistible your corporate identity lt is really hard to recollect a company the market is full of suqgestions and the information isoverwhelminq but a good catchy logo stylish statlonery and outstanding website will make the task much easier we do not promise that havinq ordered a iogo your company will automaticaily become a world ieader it isguite ciear that without good products effective business organization and practicable aim it will be hotat nowadays market but we do promise that your marketing efforts will become much more effective here is the list of clear benefits creativeness hand made original logos specially done to reflect your distinctive company image convenience logo and stationery are provided in all formats easy to use content management system letsyou change your website content and even its structure promptness you will see logo drafts within three business days affordability your marketing break through shouldn t make gaps in your budget 100 satisfaction guaranteed we provide unlimited amount of changes with no extra fees for you to be surethat you will love the result of this collaboration have a look at our portfolio not interested',\n",
       " 'at your serrvice hello welcome to ph elation armzonline excitation shop one of the ie decorate ading oniine ph ashlar armaceuticai shops v destructor l sparking gr chromic l l numerator u sunward a nerveless ac piscivorous la indigestion is hollow val tameable m andmanyother tot sublime al confidentiaiity over 5 miliio intercom n customers worldwide shlpplng overdraw save over detail 60 have a nice lovesick day',\n",
       " 'delivery status notification these recipients of your message have been processed by the mail server lucaballiano aliceposta it failed 5 7 1 delivery not authorized message refused mbertozzi aliceposta it failed 5 7 1 delivery not authorized message refused',\n",
       " 'unbelievable new homes made easy im wanting to show you this homeowner you have been pre approved for a 454 169 home loan at a 3 72 fixed rate this offer is being extended to you unconditionally and your credit is in no way a factor to take advantage of this limited time opportunity all we ask is that you visit our website and complete the 1 minute post approval form look foward to hearing from you dorcas pittman',\n",
       " 'x bcc the stock trading gunslinger fanny is merrill but muzo not colza attainder and penultimate like esmark perspicuous ramble is segovia not group try slung kansas tanzania yes chameleon or continuant clothesman no libretto is chesapeake but tight not waterway herald and hawthorn like chisel morristown superior is deoxyribonucleic not clockwork try hall incredible mcdougall yes hepburn or einsteinian earmark no sapling is boar but duane not plain palfrey and inflexible like huzzah pepperoni bedtime is nameable not attire try edt chronography optima yes pirogue or diffusion albeit no']"
      ]
     },
     "execution_count": 146,
     "metadata": {},
     "output_type": "execute_result"
    }
   ],
   "source": [
    "spam_text[:5]"
   ]
  },
  {
   "cell_type": "code",
   "execution_count": 147,
   "metadata": {},
   "outputs": [],
   "source": [
    "\n",
    "email_text=[]\n",
    "for em_path in email_path:\n",
    "    with open (em_path) as read:\n",
    "        temp=[]\n",
    "        start_reading=False\n",
    "        for line in read.readlines():\n",
    "            if 'X-FileName:' in line:\n",
    "                start_reading = True\n",
    "                continue\n",
    "            if start_reading:\n",
    "                line = line.lower().strip()\n",
    "                if len(line) == 0:\n",
    "                    continue\n",
    "                # removing all character that is not a letter or number\n",
    "                line = re.sub(r'[^a-zA-Z0-9\\s]', ' ', line)\n",
    "                line = line.split()\n",
    "                line = ' '.join(line)\n",
    "                \n",
    "                # remove stop workds\n",
    "                #ln3 = tokenize_rm_stop_word(ln2)\n",
    "                # make it string again \n",
    "                #ln3 = ' '.join(ln3)\n",
    "                temp.append(line)\n",
    "\n",
    "        \n",
    "        email_text.append(' '.join(temp))\n",
    "    "
   ]
  },
  {
   "cell_type": "code",
   "execution_count": 148,
   "metadata": {},
   "outputs": [
    {
     "data": {
      "text/plain": [
       "'forwarded by frank ermis hou ect on 01 31 2000 04 36 pm dale neuner on 01 31 2000 02 14 45 pm to frank ermis hou ect ect cc subject as requested eol transaction 79346 us gas phy index if nwpl rkymtn feb00 usd mm a us gas transaction with enron north america corp under which seller shall sell and buyer shall purchase a quantity of natural gas equal to the daily contract quantity at the contract price on a firm basis the contract price shall be derived from the index as adjusted by the price submitted by counterparty via the website the period of delivery shall be from the effective date through the termination date the term of the transaction shall be from the effective date of 01 feb 2000 to the termination date of 29 feb 2000 the transaction is for delivery at opal plant tailgate the index for a month shall be the northwest pipeline corp rocky mountains price as listed in the section entitled prices of spot gas delivered to pipelines published in the first issue in such month of inside ferc s gas market report the price is quoted in us dollars per unit of volume which will be the contractual currency the unit of measure against which the price is quoted shall be millions of british thermal units and the quantity shown shall be in millions of btus per day'"
      ]
     },
     "execution_count": 148,
     "metadata": {},
     "output_type": "execute_result"
    }
   ],
   "source": [
    "email_text[3]"
   ]
  },
  {
   "cell_type": "code",
   "execution_count": 149,
   "metadata": {},
   "outputs": [
    {
     "data": {
      "text/plain": [
       "345"
      ]
     },
     "execution_count": 149,
     "metadata": {},
     "output_type": "execute_result"
    }
   ],
   "source": [
    "ew = []\n",
    "for i in range(len(email_text)):\n",
    "    ew.append(len(email_text[i]))\n",
    "ew.index(max(ew))"
   ]
  },
  {
   "cell_type": "code",
   "execution_count": 150,
   "metadata": {},
   "outputs": [
    {
     "data": {
      "text/plain": [
       "547"
      ]
     },
     "execution_count": 150,
     "metadata": {},
     "output_type": "execute_result"
    }
   ],
   "source": [
    "ew = []\n",
    "for i in range(len(spam_text)):\n",
    "    ew.append(len(spam_text[i]))\n",
    "ew.index(max(ew))"
   ]
  },
  {
   "cell_type": "code",
   "execution_count": null,
   "metadata": {},
   "outputs": [],
   "source": []
  },
  {
   "cell_type": "code",
   "execution_count": null,
   "metadata": {},
   "outputs": [],
   "source": []
  },
  {
   "cell_type": "code",
   "execution_count": null,
   "metadata": {},
   "outputs": [],
   "source": []
  },
  {
   "cell_type": "code",
   "execution_count": 151,
   "metadata": {},
   "outputs": [],
   "source": [
    "with open('email_dataset.csv', 'w', newline='') as file:\n",
    "    writer = csv.writer(file)\n",
    "    writer.writerow([ \"email\", \"category\"])\n",
    "    for i in range(len(email_text)):\n",
    "        writer.writerow([email_text[i], 0])\n",
    "    for i in range(len(spam_text)):\n",
    "        writer.writerow([spam_text[i], 1])"
   ]
  },
  {
   "cell_type": "code",
   "execution_count": null,
   "metadata": {},
   "outputs": [],
   "source": []
  },
  {
   "cell_type": "code",
   "execution_count": null,
   "metadata": {},
   "outputs": [],
   "source": []
  },
  {
   "cell_type": "code",
   "execution_count": null,
   "metadata": {},
   "outputs": [],
   "source": []
  }
 ],
 "metadata": {
  "kernelspec": {
   "display_name": "Python 3",
   "language": "python",
   "name": "python3"
  },
  "language_info": {
   "codemirror_mode": {
    "name": "ipython",
    "version": 3
   },
   "file_extension": ".py",
   "mimetype": "text/x-python",
   "name": "python",
   "nbconvert_exporter": "python",
   "pygments_lexer": "ipython3",
   "version": "3.7.6"
  }
 },
 "nbformat": 4,
 "nbformat_minor": 4
}

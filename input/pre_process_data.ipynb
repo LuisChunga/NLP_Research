{
 "cells": [
  {
   "cell_type": "markdown",
   "metadata": {},
   "source": [
    "### This program reads data"
   ]
  },
  {
   "cell_type": "code",
   "execution_count": 16,
   "metadata": {},
   "outputs": [],
   "source": [
    "# Libraries\n",
    "from nltk.corpus import stopwords\n",
    "from nltk.tokenize import word_tokenize\n",
    "from nltk.tokenize import RegexpTokenizer\n",
    "from os import listdir\n",
    "from os import path\n",
    "import pandas as pd\n",
    "import random \n",
    "import csv\n",
    "import re"
   ]
  },
  {
   "cell_type": "code",
   "execution_count": 17,
   "metadata": {},
   "outputs": [],
   "source": [
    "# tokenize words\n",
    "tokenizer = RegexpTokenizer(r'\\w+')\n",
    "# list of stops words to be removed\n",
    "stop_words = stopwords.words('english')\n",
    "# max number of email for each class\n",
    "# spam does has les than 2000 \n",
    "max_email = 1500\n",
    "max_spam = 2000"
   ]
  },
  {
   "cell_type": "code",
   "execution_count": 31,
   "metadata": {},
   "outputs": [
    {
     "data": {
      "text/plain": [
       "False"
      ]
     },
     "execution_count": 31,
     "metadata": {},
     "output_type": "execute_result"
    }
   ],
   "source": [
    "i in stop_words"
   ]
  },
  {
   "cell_type": "markdown",
   "metadata": {},
   "source": [
    "### Gets the path of the spam email that is in the junk_email files. "
   ]
  },
  {
   "cell_type": "code",
   "execution_count": 18,
   "metadata": {},
   "outputs": [],
   "source": [
    "# This function gets the emails from the junk email folder\n",
    "def get_spam_email(): \n",
    "    spam_path=[]\n",
    "    path_mail = 'maildir'\n",
    "\n",
    "    for maildir in listdir(path_mail):\n",
    "        maildir_path = path.join(path_mail, maildir)\n",
    "\n",
    "        for mails in listdir(maildir_path):\n",
    "            emails_spam = path.join(maildir_path, mails)\n",
    "\n",
    "            if 'junk_email' == mails:   \n",
    "                #print(emails_spam)\n",
    "                for e in listdir(emails_spam):\n",
    "                    #print(e)\n",
    "                    if '.ipynb_checkpoints' == e:\n",
    "                        continue               \n",
    "                    spam_path.append(path.join(emails_spam, e))\n",
    "                    '''store the first 2000 spam emails'''\n",
    "                    if len(spam_path) > max_spam:\n",
    "                        break\n",
    "            \n",
    "    return spam_path"
   ]
  },
  {
   "cell_type": "markdown",
   "metadata": {},
   "source": [
    "### Gets the path of the email that is in the sent files. "
   ]
  },
  {
   "cell_type": "code",
   "execution_count": 19,
   "metadata": {},
   "outputs": [],
   "source": [
    "def get_emails():\n",
    "    email_path=[]\n",
    "    path_mail = 'maildir'\n",
    "\n",
    "    for maildir in listdir(path_mail):\n",
    "        maildir_path = path.join(path_mail, maildir)\n",
    "\n",
    "        for mails in listdir(maildir_path):\n",
    "            emails_spam = path.join(maildir_path, mails)\n",
    "\n",
    "            if 'sent' == mails:   \n",
    "                #print(emails_spam)\n",
    "                for e in listdir(emails_spam):\n",
    "                    #print(e)\n",
    "                    if '.ipynb_checkpoints' == e:\n",
    "                        continue               \n",
    "                    email_path.append(path.join(emails_spam, e))\n",
    "                    '''store the first 2000 emails'''\n",
    "                    if len(email_path) > max_email:\n",
    "                        break\n",
    "    return email_path"
   ]
  },
  {
   "cell_type": "code",
   "execution_count": 20,
   "metadata": {},
   "outputs": [],
   "source": [
    "# gets the paths files\n",
    "spam_email_path = get_spam_email()\n",
    "email_path      =get_emails()"
   ]
  },
  {
   "cell_type": "code",
   "execution_count": 21,
   "metadata": {},
   "outputs": [],
   "source": [
    "# It tokenize the sentences and remove the stop words \n",
    "def tokenize_rm_stop_word(line):\n",
    "    line = tokenizer.tokenize(line)\n",
    "    line = [w for w in line if not w in stop_words]       \n",
    "    return line "
   ]
  },
  {
   "cell_type": "markdown",
   "metadata": {},
   "source": [
    "### Gets the spam emails from the folders and store it into a list."
   ]
  },
  {
   "cell_type": "code",
   "execution_count": 22,
   "metadata": {},
   "outputs": [],
   "source": [
    "spam_text=[]\n",
    "for em_sp_path in spam_email_path:\n",
    "    with open (em_sp_path) as read:\n",
    "        line = read.readlines()[15:]\n",
    "        temp=[]\n",
    "        for ln in line:\n",
    "            ln = ln.lower().strip()\n",
    "            if len(ln) == 0:\n",
    "                continue\n",
    "            # removing all character that is not a letter or number\n",
    "            #ln2 = re.sub(r'[^a-zA-Z0-9\\s]', ' ', ln)\n",
    "            #ln2 = re.sub(r'[^a-zA-Z\\s]', ' ', ln)\n",
    "            ln2 = re.sub(r'[^a-zA-Z]', ' ', ln)\n",
    "            \n",
    "            ln2 = ln2.split()\n",
    "            ln2 = ' '.join(ln2)\n",
    "            # remove stop workds\n",
    "            #ln3 = tokenize_rm_stop_word(ln2)\n",
    "            # make it string again \n",
    "            #ln3 = ' '.join(ln3)\n",
    "            temp.append(ln2)\n",
    "\n",
    "        spam_text.append(' '.join(temp))\n",
    "    "
   ]
  },
  {
   "cell_type": "code",
   "execution_count": 23,
   "metadata": {},
   "outputs": [
    {
     "data": {
      "text/plain": [
       "'at your serrvice hello welcome to ph elation armzonline excitation shop one of the ie decorate ading oniine ph ashlar armaceuticai shops v destructor l sparking gr chromic l l numerator u sunward a nerveless ac piscivorous la indigestion is hollow val tameable m andmanyother tot sublime al confidentiaiity over miliio intercom n customers worldwide shlpplng overdraw save over detail have a nice lovesick day'"
      ]
     },
     "execution_count": 23,
     "metadata": {},
     "output_type": "execute_result"
    }
   ],
   "source": [
    "spam_text[1]"
   ]
  },
  {
   "cell_type": "markdown",
   "metadata": {},
   "source": [
    "### Gets the emails from the folders and store it into a list."
   ]
  },
  {
   "cell_type": "code",
   "execution_count": 24,
   "metadata": {},
   "outputs": [],
   "source": [
    "\n",
    "email_text=[]\n",
    "for em_path in email_path:\n",
    "    with open (em_path) as read:\n",
    "        temp=[]\n",
    "        start_reading=False\n",
    "        for line in read.readlines():\n",
    "            if 'X-FileName:' in line:\n",
    "                start_reading = True\n",
    "                continue\n",
    "            if start_reading:\n",
    "                line = line.lower().strip()\n",
    "                if len(line) == 0:\n",
    "                    continue\n",
    "                # removing all character that is not a letter or number\n",
    "                #line = re.sub(r'[^a-zA-Z0-9\\s]', ' ', line)\n",
    "                #line = re.sub(r'[^a-zA-Z\\s]', ' ', line)\n",
    "                line = re.sub(r'[^a-zA-Z]', ' ', line)\n",
    "                \n",
    "                line = line.split()\n",
    "                line = ' '.join(line)\n",
    "                \n",
    "                # remove stop workds\n",
    "                #ln3 = tokenize_rm_stop_word(ln2)\n",
    "                # make it string again \n",
    "                #ln3 = ' '.join(ln3)\n",
    "                temp.append(line)\n",
    "\n",
    "        \n",
    "        email_text.append(' '.join(temp))\n",
    "    "
   ]
  },
  {
   "cell_type": "code",
   "execution_count": 25,
   "metadata": {},
   "outputs": [
    {
     "data": {
      "text/plain": [
       "'forwarded by frank ermis hou ect on pm dale neuner on pm to frank ermis hou ect ect cc subject as requested eol transaction us gas phy index if nwpl rkymtn feb usd mm a us gas transaction with enron north america corp under which seller shall sell and buyer shall purchase a quantity of natural gas equal to the daily contract quantity at the contract price on a firm basis the contract price shall be derived from the index as adjusted by the price submitted by counterparty via the website the period of delivery shall be from the effective date through the termination date the term of the transaction shall be from the effective date of feb to the termination date of feb the transaction is for delivery at opal plant tailgate the index for a month shall be the northwest pipeline corp rocky mountains price as listed in the section entitled prices of spot gas delivered to pipelines published in the first issue in such month of inside ferc s gas market report the price is quoted in us dollars per unit of volume which will be the contractual currency the unit of measure against which the price is quoted shall be millions of british thermal units and the quantity shown shall be in millions of btus per day'"
      ]
     },
     "execution_count": 25,
     "metadata": {},
     "output_type": "execute_result"
    }
   ],
   "source": [
    "email_text[3]"
   ]
  },
  {
   "cell_type": "code",
   "execution_count": 26,
   "metadata": {},
   "outputs": [
    {
     "name": "stdout",
     "output_type": "stream",
     "text": [
      "Total Email:  1588\n",
      "Total Spams:  1360\n"
     ]
    }
   ],
   "source": [
    "print(\"Total Email: \", len(email_text))\n",
    "print(\"Total Spams: \", len(spam_text))"
   ]
  },
  {
   "cell_type": "markdown",
   "metadata": {},
   "source": [
    "### Save list into a CSV file for better display"
   ]
  },
  {
   "cell_type": "code",
   "execution_count": 27,
   "metadata": {},
   "outputs": [],
   "source": [
    "with open('email_dataset.csv', 'w', newline='') as file:\n",
    "    writer = csv.writer(file)\n",
    "    writer.writerow([ \"email\", \"category\"])\n",
    "    \n",
    "    for i in range(len(email_text)):\n",
    "        writer.writerow([email_text[i], 0])\n",
    "    for i in range(len(spam_text)):\n",
    "        writer.writerow([spam_text[i], 1])"
   ]
  },
  {
   "cell_type": "code",
   "execution_count": null,
   "metadata": {},
   "outputs": [],
   "source": []
  },
  {
   "cell_type": "code",
   "execution_count": 28,
   "metadata": {},
   "outputs": [
    {
     "data": {
      "image/png": "[encoded data removed]",
      "text/plain": [
       "<Figure size 432x288 with 1 Axes>"
      ]
     },
     "metadata": {
      "needs_background": "light"
     },
     "output_type": "display_data"
    },
    {
     "data": {
      "image/png": "[encoded data removed]",
      "text/plain": [
       "<Figure size 432x288 with 1 Axes>"
      ]
     },
     "metadata": {
      "needs_background": "light"
     },
     "output_type": "display_data"
    }
   ],
   "source": [
    "from nltk.tokenize import word_tokenize\n",
    "from nltk.probability import FreqDist\n",
    "import matplotlib.pyplot as plt\n",
    "import nltk\n",
    "\n",
    "tokenized_word=[]\n",
    "fdist = FreqDist()\n",
    "for i in email_text:\n",
    "  \n",
    "    for word in word_tokenize(i):\n",
    "        fdist[word] += 1\n",
    "        \n",
    "fdist.plot(30,cumulative=False)\n",
    "plt.show()\n",
    "\n",
    "tokenized_word=[]\n",
    "fdist = FreqDist()\n",
    "for i in spam_text:\n",
    "  \n",
    "    for word in word_tokenize(i):\n",
    "        fdist[word] += 1\n",
    "        \n",
    "fdist.plot(30,cumulative=False)\n",
    "plt.show()"
   ]
  },
  {
   "cell_type": "code",
   "execution_count": null,
   "metadata": {},
   "outputs": [],
   "source": []
  },
  {
   "cell_type": "code",
   "execution_count": 29,
   "metadata": {},
   "outputs": [
    {
     "name": "stdout",
     "output_type": "stream",
     "text": [
      "0.22.2.post1\n"
     ]
    }
   ],
   "source": [
    "import sklearn\n",
    "print(sklearn.__version__)"
   ]
  },
  {
   "cell_type": "code",
   "execution_count": null,
   "metadata": {},
   "outputs": [],
   "source": []
  }
 ],
 "metadata": {
  "kernelspec": {
   "display_name": "Python 3",
   "language": "python",
   "name": "python3"
  },
  "language_info": {
   "codemirror_mode": {
    "name": "ipython",
    "version": 3
   },
   "file_extension": ".py",
   "mimetype": "text/x-python",
   "name": "python",
   "nbconvert_exporter": "python",
   "pygments_lexer": "ipython3",
   "version": "3.7.6"
  }
 },
 "nbformat": 4,
 "nbformat_minor": 4
}

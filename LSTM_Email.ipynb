{
 "cells": [
  {
   "cell_type": "code",
   "execution_count": 85,
   "metadata": {
    "_uuid": "d6fb32fd69316596e236eab5fb8cf77c848508c3"
   },
   "outputs": [],
   "source": [
    "import pandas as pd\n",
    "import numpy as np\n",
    "import matplotlib.pyplot as plt\n",
    "import seaborn as sns\n",
    "from sklearn.model_selection import train_test_split\n",
    "from sklearn.preprocessing import LabelEncoder\n",
    "from keras.models import Model\n",
    "from keras.layers import LSTM, Activation, Dense, Dropout, Input, Embedding\n",
    "from keras.optimizers import RMSprop\n",
    "from keras.preprocessing.text import Tokenizer\n",
    "from keras.preprocessing import sequence\n",
    "from keras.utils import to_categorical\n",
    "from keras.callbacks import EarlyStopping\n",
    "from sklearn.metrics import accuracy_score\n",
    "from sklearn.metrics import classification_report\n",
    "from sklearn.metrics import confusion_matrix\n",
    "import time\n"
   ]
  },
  {
   "cell_type": "code",
   "execution_count": 66,
   "metadata": {},
   "outputs": [],
   "source": [
    "start_time = time.time()\n"
   ]
  },
  {
   "cell_type": "code",
   "execution_count": 68,
   "metadata": {},
   "outputs": [],
   "source": [
    "#os.environ['TF_CPP_MIN_LOG_LEVEL'] = '2' ## to ingnore some warning "
   ]
  },
  {
   "cell_type": "markdown",
   "metadata": {
    "_uuid": "f674695f1742479cefdeec0e81ab469f7b6ec90f"
   },
   "source": [
    "### Load the data "
   ]
  },
  {
   "cell_type": "code",
   "execution_count": 44,
   "metadata": {
    "_uuid": "aca2f1d9da3f35d104763166fe4d25448410d8f2"
   },
   "outputs": [
    {
     "data": {
      "text/html": [
       "<div>\n",
       "<style scoped>\n",
       "    .dataframe tbody tr th:only-of-type {\n",
       "        vertical-align: middle;\n",
       "    }\n",
       "\n",
       "    .dataframe tbody tr th {\n",
       "        vertical-align: top;\n",
       "    }\n",
       "\n",
       "    .dataframe thead th {\n",
       "        text-align: right;\n",
       "    }\n",
       "</style>\n",
       "<table border=\"1\" class=\"dataframe\">\n",
       "  <thead>\n",
       "    <tr style=\"text-align: right;\">\n",
       "      <th></th>\n",
       "      <th>email</th>\n",
       "      <th>category</th>\n",
       "    </tr>\n",
       "  </thead>\n",
       "  <tbody>\n",
       "    <tr>\n",
       "      <th>0</th>\n",
       "      <td>this cp has merged into pancanadian energy ser...</td>\n",
       "      <td>0</td>\n",
       "    </tr>\n",
       "    <tr>\n",
       "      <th>1</th>\n",
       "      <td>this morning roman blake with calp told robin ...</td>\n",
       "      <td>0</td>\n",
       "    </tr>\n",
       "    <tr>\n",
       "      <th>2</th>\n",
       "      <td>kay please forward to max yzaguirre max congra...</td>\n",
       "      <td>0</td>\n",
       "    </tr>\n",
       "    <tr>\n",
       "      <th>3</th>\n",
       "      <td>k how s life back in texas i am not sure if i ...</td>\n",
       "      <td>0</td>\n",
       "    </tr>\n",
       "    <tr>\n",
       "      <th>4</th>\n",
       "      <td>sent on behalf of laurie pare attached is my m...</td>\n",
       "      <td>0</td>\n",
       "    </tr>\n",
       "    <tr>\n",
       "      <th>...</th>\n",
       "      <td>...</td>\n",
       "      <td>...</td>\n",
       "    </tr>\n",
       "    <tr>\n",
       "      <th>2853</th>\n",
       "      <td>on line gaming report special online issue inv...</td>\n",
       "      <td>1</td>\n",
       "    </tr>\n",
       "    <tr>\n",
       "      <th>2854</th>\n",
       "      <td>account suspension dear paypal user in accorda...</td>\n",
       "      <td>1</td>\n",
       "    </tr>\n",
       "    <tr>\n",
       "      <th>2855</th>\n",
       "      <td>small cap stoxs can mean gains for you watch t...</td>\n",
       "      <td>1</td>\n",
       "    </tr>\n",
       "    <tr>\n",
       "      <th>2856</th>\n",
       "      <td>roletes e roldanas para empilhadeiras santos j...</td>\n",
       "      <td>1</td>\n",
       "    </tr>\n",
       "    <tr>\n",
       "      <th>2857</th>\n",
       "      <td>x origin farmer d your online sales are low be...</td>\n",
       "      <td>1</td>\n",
       "    </tr>\n",
       "  </tbody>\n",
       "</table>\n",
       "<p>2858 rows × 2 columns</p>\n",
       "</div>"
      ],
      "text/plain": [
       "                                                  email  category\n",
       "0     this cp has merged into pancanadian energy ser...         0\n",
       "1     this morning roman blake with calp told robin ...         0\n",
       "2     kay please forward to max yzaguirre max congra...         0\n",
       "3     k how s life back in texas i am not sure if i ...         0\n",
       "4     sent on behalf of laurie pare attached is my m...         0\n",
       "...                                                 ...       ...\n",
       "2853  on line gaming report special online issue inv...         1\n",
       "2854  account suspension dear paypal user in accorda...         1\n",
       "2855  small cap stoxs can mean gains for you watch t...         1\n",
       "2856  roletes e roldanas para empilhadeiras santos j...         1\n",
       "2857  x origin farmer d your online sales are low be...         1\n",
       "\n",
       "[2858 rows x 2 columns]"
      ]
     },
     "execution_count": 44,
     "metadata": {},
     "output_type": "execute_result"
    }
   ],
   "source": [
    "Corpus = pd.read_csv(\"input/batches/email_batch_40.csv\", encoding='latin')\n",
    "\n",
    "Corpus"
   ]
  },
  {
   "cell_type": "code",
   "execution_count": 45,
   "metadata": {},
   "outputs": [
    {
     "data": {
      "text/html": [
       "<div>\n",
       "<style scoped>\n",
       "    .dataframe tbody tr th:only-of-type {\n",
       "        vertical-align: middle;\n",
       "    }\n",
       "\n",
       "    .dataframe tbody tr th {\n",
       "        vertical-align: top;\n",
       "    }\n",
       "\n",
       "    .dataframe thead tr th {\n",
       "        text-align: left;\n",
       "    }\n",
       "\n",
       "    .dataframe thead tr:last-of-type th {\n",
       "        text-align: right;\n",
       "    }\n",
       "</style>\n",
       "<table border=\"1\" class=\"dataframe\">\n",
       "  <thead>\n",
       "    <tr>\n",
       "      <th></th>\n",
       "      <th colspan=\"4\" halign=\"left\">email</th>\n",
       "    </tr>\n",
       "    <tr>\n",
       "      <th></th>\n",
       "      <th>count</th>\n",
       "      <th>unique</th>\n",
       "      <th>top</th>\n",
       "      <th>freq</th>\n",
       "    </tr>\n",
       "    <tr>\n",
       "      <th>category</th>\n",
       "      <th></th>\n",
       "      <th></th>\n",
       "      <th></th>\n",
       "      <th></th>\n",
       "    </tr>\n",
       "  </thead>\n",
       "  <tbody>\n",
       "    <tr>\n",
       "      <th>0</th>\n",
       "      <td>1497</td>\n",
       "      <td>1469</td>\n",
       "      <td>start date hourahead hour no ancillary schedul...</td>\n",
       "      <td>13</td>\n",
       "    </tr>\n",
       "    <tr>\n",
       "      <th>1</th>\n",
       "      <td>1360</td>\n",
       "      <td>1355</td>\n",
       "      <td>at your serrvice hello welcome to ph elation a...</td>\n",
       "      <td>2</td>\n",
       "    </tr>\n",
       "  </tbody>\n",
       "</table>\n",
       "</div>"
      ],
      "text/plain": [
       "         email                                                               \n",
       "         count unique                                                top freq\n",
       "category                                                                     \n",
       "0         1497   1469  start date hourahead hour no ancillary schedul...   13\n",
       "1         1360   1355  at your serrvice hello welcome to ph elation a...    2"
      ]
     },
     "execution_count": 45,
     "metadata": {},
     "output_type": "execute_result"
    }
   ],
   "source": [
    "### The dataset has 2 class, which 0 is Email and 1 is spam \n",
    "### There are 2033 unique email out of 2087 \n",
    "### There are 1356 unique spam out of 1360 \n",
    "\n",
    "Corpus.groupby('category').describe()"
   ]
  },
  {
   "cell_type": "code",
   "execution_count": 46,
   "metadata": {
    "_uuid": "a12002f521dd8eaeb0f69a932cbf23815ffd09d7"
   },
   "outputs": [
    {
     "data": {
      "text/plain": [
       "Text(0.5, 1.0, 'Number of Emails and Spams')"
      ]
     },
     "execution_count": 46,
     "metadata": {},
     "output_type": "execute_result"
    },
    {
     "data": {
      "image/png": "[encoded data removed]",
      "text/plain": [
       "<Figure size 432x288 with 1 Axes>"
      ]
     },
     "metadata": {
      "needs_background": "light"
     },
     "output_type": "display_data"
    }
   ],
   "source": [
    "# Display\n",
    "sns.countplot(Corpus.category)\n",
    "plt.xlabel('Email                Spam')\n",
    "plt.title('Number of Emails and Spams')"
   ]
  },
  {
   "cell_type": "code",
   "execution_count": 47,
   "metadata": {
    "_uuid": "a1a345c1683e2fcc7173ecae867a5da87f2dde24"
   },
   "outputs": [],
   "source": [
    "X = Corpus.email.astype(str) # data\n",
    "Y = Corpus.category  # labels"
   ]
  },
  {
   "cell_type": "code",
   "execution_count": 48,
   "metadata": {},
   "outputs": [],
   "source": [
    "# label enconder from pandas to an array\n",
    "le = LabelEncoder()\n",
    "Y = le.fit_transform(Y)\n",
    "\n",
    "# transfor from a array to a vector\n",
    "Y = Y.reshape(-1,1)"
   ]
  },
  {
   "cell_type": "markdown",
   "metadata": {},
   "source": [
    "##### Splitting data 70% for training and 30% for testing"
   ]
  },
  {
   "cell_type": "code",
   "execution_count": 49,
   "metadata": {},
   "outputs": [],
   "source": [
    "X_train,X_test,Y_train,Y_test = train_test_split(X,Y,test_size=0.20,random_state=20)"
   ]
  },
  {
   "cell_type": "code",
   "execution_count": 50,
   "metadata": {},
   "outputs": [
    {
     "data": {
      "text/plain": [
       "458     attached is a revision of the advice letter su...\n",
       "802     thought for today  whisper jesus   today i got...\n",
       "543                             an april less version kay\n",
       "938     thanks for your quick reply my apologies for a...\n",
       "2499    looking for cheap high quality software softwa...\n",
       "                              ...                        \n",
       "1814    commission on month cd style annuity guarantee...\n",
       "1428    original message from cooke ian sent thursday ...\n",
       "2441    become happy with your performance male enhanc...\n",
       "271     howdy how long has it been when are we going o...\n",
       "2522    moore medz hello welcome to medzonline sho api...\n",
       "Name: email, Length: 2286, dtype: object"
      ]
     },
     "execution_count": 50,
     "metadata": {},
     "output_type": "execute_result"
    }
   ],
   "source": [
    "X_train"
   ]
  },
  {
   "cell_type": "code",
   "execution_count": 51,
   "metadata": {
    "_uuid": "bdca14f2b8cd7bd7cb5ee66fd40ea522217c03c6"
   },
   "outputs": [],
   "source": [
    "max_words = 1000\n",
    "max_len = 200\n",
    "# Tokenize the data and convert the text to sequences.\n",
    "tok = Tokenizer(num_words=max_words)\n",
    "\n",
    "#Tokenize the data and convert the text to sequences.\n",
    "tok.fit_on_texts(X_train)\n",
    "sequences = tok.texts_to_sequences(X_train)\n",
    "# Add padding to ensure that all the sequences have the same shape.\n",
    "sequences_matrix = sequence.pad_sequences(sequences,maxlen=max_len)\n",
    "\n",
    "# Process the test set data.\n",
    "test_sequences = tok.texts_to_sequences(X_test)\n",
    "test_sequences_matrix = sequence.pad_sequences(test_sequences,maxlen=max_len)\n"
   ]
  },
  {
   "cell_type": "code",
   "execution_count": null,
   "metadata": {},
   "outputs": [],
   "source": []
  },
  {
   "cell_type": "markdown",
   "metadata": {
    "_uuid": "ad8706caa7a447fb49b44919fd109129e4082a93"
   },
   "source": [
    "\n",
    "### Creating Functional LSTM model"
   ]
  },
  {
   "cell_type": "code",
   "execution_count": 69,
   "metadata": {
    "_uuid": "78fff25b8be1de575bff071a2027f3dd2b11b911"
   },
   "outputs": [],
   "source": [
    "def LSTM_model():\n",
    "    inputs = Input(name='inputs',shape=[max_len])\n",
    "    layer = Embedding(max_words,50,input_length=max_len)(inputs)\n",
    "    layer = LSTM(260)(layer)\n",
    "    layer = Dense(256,name='FC1')(layer)\n",
    "    layer = Activation('relu')(layer)\n",
    "    layer = Dropout(0.5)(layer)\n",
    "    layer = Dense(1,name='out_layer')(layer)\n",
    "    layer = Activation('sigmoid')(layer)\n",
    "    model = Model(inputs=inputs,outputs=layer)\n",
    "    return model"
   ]
  },
  {
   "cell_type": "code",
   "execution_count": 73,
   "metadata": {
    "_uuid": "a0ede32d4127e8b4990fd74fe97fadef9e565d17"
   },
   "outputs": [
    {
     "name": "stdout",
     "output_type": "stream",
     "text": [
      "Model: \"model_53\"\n",
      "_________________________________________________________________\n",
      "Layer (type)                 Output Shape              Param #   \n",
      "=================================================================\n",
      "inputs (InputLayer)          (None, 200)               0         \n",
      "_________________________________________________________________\n",
      "embedding_53 (Embedding)     (None, 200, 50)           50000     \n",
      "_________________________________________________________________\n",
      "lstm_53 (LSTM)               (None, 260)               323440    \n",
      "_________________________________________________________________\n",
      "FC1 (Dense)                  (None, 256)               66816     \n",
      "_________________________________________________________________\n",
      "activation_105 (Activation)  (None, 256)               0         \n",
      "_________________________________________________________________\n",
      "dropout_53 (Dropout)         (None, 256)               0         \n",
      "_________________________________________________________________\n",
      "out_layer (Dense)            (None, 1)                 257       \n",
      "_________________________________________________________________\n",
      "activation_106 (Activation)  (None, 1)                 0         \n",
      "=================================================================\n",
      "Total params: 440,513\n",
      "Trainable params: 440,513\n",
      "Non-trainable params: 0\n",
      "_________________________________________________________________\n"
     ]
    }
   ],
   "source": [
    "# Call the function and compile the model.\n",
    "model = LSTM_model()\n",
    "model.summary()\n",
    "model.compile(loss='binary_crossentropy',optimizer='adam',metrics=['accuracy'])"
   ]
  },
  {
   "cell_type": "markdown",
   "metadata": {
    "_uuid": "bc2e0a3ec50d14c790b82d66f9255456ec6a69da"
   },
   "source": [
    "Fit on the training data."
   ]
  },
  {
   "cell_type": "code",
   "execution_count": 74,
   "metadata": {
    "_uuid": "98f6d6318352420ea49c532cda158f715f940f4b"
   },
   "outputs": [
    {
     "name": "stderr",
     "output_type": "stream",
     "text": [
      "/opt/conda/lib/python3.7/site-packages/tensorflow_core/python/framework/indexed_slices.py:433: UserWarning: Converting sparse IndexedSlices to a dense Tensor of unknown shape. This may consume a large amount of memory.\n",
      "  \"Converting sparse IndexedSlices to a dense Tensor of unknown shape. \"\n"
     ]
    },
    {
     "name": "stdout",
     "output_type": "stream",
     "text": [
      "Train on 1828 samples, validate on 458 samples\n",
      "Epoch 1/20\n",
      "1828/1828 [==============================] - 45s 25ms/step - loss: 0.6874 - accuracy: 0.6275 - val_loss: 0.6682 - val_accuracy: 0.7140\n",
      "Epoch 2/20\n",
      "1828/1828 [==============================] - 42s 23ms/step - loss: 0.6414 - accuracy: 0.8096 - val_loss: 0.5577 - val_accuracy: 0.7489\n",
      "Epoch 3/20\n",
      "1828/1828 [==============================] - 46s 25ms/step - loss: 0.5006 - accuracy: 0.8282 - val_loss: 0.4596 - val_accuracy: 0.7948\n",
      "Epoch 4/20\n",
      "1828/1828 [==============================] - 38s 21ms/step - loss: 0.4090 - accuracy: 0.8561 - val_loss: 0.4795 - val_accuracy: 0.7795\n",
      "Epoch 5/20\n",
      "1828/1828 [==============================] - 43s 24ms/step - loss: 0.4192 - accuracy: 0.8107 - val_loss: 0.4120 - val_accuracy: 0.8122\n",
      "Epoch 6/20\n",
      "1828/1828 [==============================] - 45s 25ms/step - loss: 0.2804 - accuracy: 0.8922 - val_loss: 0.3137 - val_accuracy: 0.8603\n",
      "Epoch 7/20\n",
      "1828/1828 [==============================] - 42s 23ms/step - loss: 0.1702 - accuracy: 0.9354 - val_loss: 0.2837 - val_accuracy: 0.8952\n",
      "Epoch 8/20\n",
      "1828/1828 [==============================] - 45s 25ms/step - loss: 0.1423 - accuracy: 0.9508 - val_loss: 0.2998 - val_accuracy: 0.8734\n",
      "Epoch 9/20\n",
      "1828/1828 [==============================] - 41s 22ms/step - loss: 0.1378 - accuracy: 0.9524 - val_loss: 0.3041 - val_accuracy: 0.8799\n",
      "Epoch 10/20\n",
      "1828/1828 [==============================] - 49s 27ms/step - loss: 0.1113 - accuracy: 0.9661 - val_loss: 0.2854 - val_accuracy: 0.8952\n",
      "Epoch 11/20\n",
      "1828/1828 [==============================] - 40s 22ms/step - loss: 0.0681 - accuracy: 0.9792 - val_loss: 0.2791 - val_accuracy: 0.9170\n",
      "Epoch 12/20\n",
      "1828/1828 [==============================] - 45s 25ms/step - loss: 0.0588 - accuracy: 0.9809 - val_loss: 0.2884 - val_accuracy: 0.9148\n",
      "Epoch 13/20\n",
      "1828/1828 [==============================] - 47s 26ms/step - loss: 0.0503 - accuracy: 0.9885 - val_loss: 0.3299 - val_accuracy: 0.8952\n",
      "Epoch 14/20\n",
      "1828/1828 [==============================] - 40s 22ms/step - loss: 0.0472 - accuracy: 0.9907 - val_loss: 0.3406 - val_accuracy: 0.9083\n",
      "Epoch 15/20\n",
      "1828/1828 [==============================] - 42s 23ms/step - loss: 0.0319 - accuracy: 0.9918 - val_loss: 0.3519 - val_accuracy: 0.9127\n",
      "Epoch 16/20\n",
      "1828/1828 [==============================] - 46s 25ms/step - loss: 0.0276 - accuracy: 0.9929 - val_loss: 0.3643 - val_accuracy: 0.9105\n",
      "Epoch 17/20\n",
      "1828/1828 [==============================] - 47s 25ms/step - loss: 0.0215 - accuracy: 0.9940 - val_loss: 0.3871 - val_accuracy: 0.9083\n",
      "Epoch 18/20\n",
      "1828/1828 [==============================] - 42s 23ms/step - loss: 0.0186 - accuracy: 0.9956 - val_loss: 0.3991 - val_accuracy: 0.8974\n",
      "Epoch 19/20\n",
      "1828/1828 [==============================] - 42s 23ms/step - loss: 0.0140 - accuracy: 0.9973 - val_loss: 0.4116 - val_accuracy: 0.9083\n",
      "Epoch 20/20\n",
      "1828/1828 [==============================] - 45s 25ms/step - loss: 0.0106 - accuracy: 0.9984 - val_loss: 0.4199 - val_accuracy: 0.9105\n"
     ]
    }
   ],
   "source": [
    "history = model.fit(sequences_matrix,\n",
    "                    Y_train,\n",
    "                    batch_size=256,\n",
    "                    epochs=20,\n",
    "                    validation_split=0.2 )"
   ]
  },
  {
   "cell_type": "markdown",
   "metadata": {
    "_uuid": "0b60d7d2bcc0aabf77c8c8766c59f8d73cd34547"
   },
   "source": [
    "#### Evaluate"
   ]
  },
  {
   "cell_type": "code",
   "execution_count": 72,
   "metadata": {},
   "outputs": [
    {
     "name": "stdout",
     "output_type": "stream",
     "text": [
      "572/572 [==============================] - 21s 37ms/step\n",
      "Test loss: 0.34646463592152493\n",
      "Test accuracy: 0.9038461446762085\n"
     ]
    }
   ],
   "source": [
    "# Evaluate the model on the test set.\n",
    "# Final Result - Generalization!\n",
    "score = model.evaluate(test_sequences_matrix, Y_test, verbose=1) \n",
    "print('Test loss:', score[0])\n",
    "print('Test accuracy:', score[1])"
   ]
  },
  {
   "cell_type": "code",
   "execution_count": 81,
   "metadata": {},
   "outputs": [
    {
     "data": {
      "text/plain": [
       "array([0.99999654], dtype=float32)"
      ]
     },
     "execution_count": 81,
     "metadata": {},
     "output_type": "execute_result"
    }
   ],
   "source": [
    "yhat = model.predict(test_sequences_matrix)"
   ]
  },
  {
   "cell_type": "code",
   "execution_count": 84,
   "metadata": {},
   "outputs": [
    {
     "name": "stdout",
     "output_type": "stream",
     "text": [
      "\n",
      " -> Accuracy 0.9178321678321678\n",
      "\n",
      " -> Classification Report\n",
      "              precision    recall  f1-score   support\n",
      "\n",
      "           0       0.93      0.92      0.92       312\n",
      "           1       0.90      0.92      0.91       260\n",
      "\n",
      "    accuracy                           0.92       572\n",
      "   macro avg       0.92      0.92      0.92       572\n",
      "weighted avg       0.92      0.92      0.92       572\n",
      "\n",
      "\n",
      "-> Classification Report\n",
      "[[286  26]\n",
      " [ 21 239]]\n"
     ]
    }
   ],
   "source": [
    "\n",
    "\n",
    "# the 3 lines below show how to invoke various output    \n",
    "print(\"\\n\",\"-> Accuracy\",accuracy_score(Y_test, yhat.round()))\n",
    "print(\"\\n\",\" -> Classification Report\\n\",classification_report(Y_test, yhat.round()),sep=\"\")\n",
    "print(\"\\n\",\"-> Classification Report\\n\",confusion_matrix(Y_test, yhat.round()),sep=\"\")"
   ]
  },
  {
   "cell_type": "code",
   "execution_count": 75,
   "metadata": {},
   "outputs": [
    {
     "data": {
      "image/png": "[encoded data removed]",
      "text/plain": [
       "<Figure size 432x288 with 2 Axes>"
      ]
     },
     "metadata": {
      "needs_background": "light"
     },
     "output_type": "display_data"
    }
   ],
   "source": [
    "plt.figure(1)\n",
    "\n",
    "# summarize history for accuracy\n",
    "plt.subplot(211) \n",
    "plt.plot(history.history['accuracy']) \n",
    "plt.plot(history.history['val_accuracy']) \n",
    "plt.title('model accuracy') \n",
    "plt.ylabel('accuracy')\n",
    "plt.xlabel('epoch')\n",
    "plt.legend(['train', 'val'], loc='upper left')\n",
    "\n",
    "# summarize history for loss\n",
    "plt.subplot(212) \n",
    "plt.plot(history.history['loss']) \n",
    "plt.plot(history.history['val_loss']) \n",
    "plt.title('model loss')\n",
    "plt.ylabel('loss')\n",
    "plt.xlabel('epoch')\n",
    "plt.legend(['train', 'val'], loc='upper left')\n",
    "plt.tight_layout() \n",
    "plt.show()"
   ]
  },
  {
   "cell_type": "code",
   "execution_count": 29,
   "metadata": {},
   "outputs": [
    {
     "name": "stdout",
     "output_type": "stream",
     "text": [
      "966.89 seconds\n"
     ]
    }
   ],
   "source": [
    "print(\"{:.2f} seconds\".format(time.time() - start_time))"
   ]
  },
  {
   "cell_type": "code",
   "execution_count": 32,
   "metadata": {},
   "outputs": [
    {
     "data": {
      "image/png": "[encoded data removed]",
      "text/plain": [
       "<Figure size 432x288 with 1 Axes>"
      ]
     },
     "metadata": {
      "needs_background": "light"
     },
     "output_type": "display_data"
    }
   ],
   "source": [
    "from nltk.tokenize import word_tokenize\n",
    "from nltk.probability import FreqDist\n",
    "\n",
    "import nltk\n",
    "\n",
    "\n",
    "\n",
    "tokenized_word=[]\n",
    "fdist = FreqDist()\n",
    "for i in Corpus.email:\n",
    "  \n",
    "    for word in word_tokenize(i):\n",
    "        fdist[word] += 1\n",
    "        \n",
    "fdist.plot(30,cumulative=False)\n",
    "plt.show()"
   ]
  },
  {
   "cell_type": "code",
   "execution_count": 89,
   "metadata": {},
   "outputs": [],
   "source": [
    "import warnings\n",
    "warnings.filterwarnings('ignore')"
   ]
  },
  {
   "cell_type": "code",
   "execution_count": 97,
   "metadata": {},
   "outputs": [
    {
     "name": "stdout",
     "output_type": "stream",
     "text": [
      "-> Accuracy 0.8039044289044287\n",
      "3586.15 seconds\n"
     ]
    }
   ],
   "source": [
    "# CHANGE TO CODE \n",
    "from os import listdir\n",
    "from os import path\n",
    "\n",
    "start_time = time.time()\n",
    "input_path = 'input/batches/'\n",
    "paths = listdir(input_path)\n",
    "number_of_runs= 49\n",
    "total = 0\n",
    "total_acc = 0\n",
    "points=[]\n",
    "\n",
    "press1T=0.0; recall1T=0.0; f1_s1T=0.0; supp1T=0.0\n",
    "press2T=0.0; recall2T=0.0; f1_s2T=0.0; supp2T=0.0\n",
    "f1_s3T=0.0; supp3T=0.0\n",
    "press4T=0.0; recall4T=0.0; f1_s4T=0.0; supp4T=0.0\n",
    "press5T=0.0; recall5T=0.0; f1_s5T=0.0; supp5T=0.0\n",
    "\n",
    "\n",
    "mat = np.zeros((2, 2))\n",
    "\n",
    "start_time = time.time()\n",
    "\n",
    "for i in range(number_of_runs):\n",
    "    if '.ipynb_checkpoints' in paths[i]:\n",
    "        continue\n",
    "    \n",
    "    corpus = pd.read_csv(input_path+paths[i],encoding = \"latin\")\n",
    "    X = Corpus.email.astype(str) # data\n",
    "    Y = Corpus.category  # labels\n",
    "    # label enconder from pandas to an array\n",
    "    le = LabelEncoder()\n",
    "    Y = le.fit_transform(Y)\n",
    "\n",
    "    # transfor from a array to a vector\n",
    "    Y = Y.reshape(-1,1)\n",
    "    X_train,X_test,Y_train,Y_test = train_test_split(X,Y,test_size=0.20,random_state=20)    \n",
    "    \n",
    "    #Tokenize the data and convert the text to sequences.\n",
    "    tok.fit_on_texts(X_train)\n",
    "    sequences = tok.texts_to_sequences(X_train)\n",
    "\n",
    "    # Add padding to ensure that all the sequences have the same shape.\n",
    "    sequences_matrix = sequence.pad_sequences(sequences,maxlen=max_len)\n",
    "\n",
    "    # Process the test set data.\n",
    "    test_sequences = tok.texts_to_sequences(X_test)\n",
    "    test_sequences_matrix = sequence.pad_sequences(test_sequences,maxlen=max_len)\n",
    "    # Call the function and compile the model.\n",
    "    model1 = LSTM_model()\n",
    "    #model.summary()\n",
    "    model1.compile(loss='binary_crossentropy',optimizer=RMSprop(),metrics=['accuracy'])\n",
    "    history = model1.fit(sequences_matrix,\n",
    "                    Y_train,\n",
    "                    batch_size=256,\n",
    "                    epochs=2,\n",
    "                    validation_split=0.2,\n",
    "                    verbose=0)\n",
    "    # Evaluate the model on the test set.\n",
    "    # Final Result - Generalization!\n",
    "    #score = model.evaluate(test_sequences_matrix, Y_test, verbose=0) \n",
    "    #print('Test accuracy:', score[1])\n",
    "    yhat = model1.predict(test_sequences_matrix)\n",
    "    acc =accuracy_score(Y_test, yhat.round())\n",
    "    \n",
    "    class_report = classification_report(Y_test, yhat.round())\n",
    "    class_report = class_report.split('\\n')\n",
    "    \n",
    "    press1, recall1, f1_s1, supp1 =  [float(i) for i in class_report[2].split()[1:]]\n",
    "    press1T+=press1; recall1T+=recall1; f1_s1T+=f1_s1; supp1T+=supp1\n",
    "    \n",
    "    press2, recall2, f1_s2, supp2 =  [float(i) for i in class_report[3].split()[1:]]\n",
    "    press2T+=press2; recall2T+=recall2; f1_s2T+=f1_s2; supp2T+=supp2\n",
    "    \n",
    "    f1_s3, supp3 = [float(i) for i in class_report[5].split()[1:]]\n",
    "    f1_s3T+=f1_s3; supp3T+=supp3\n",
    "    \n",
    "    press4, recall4, f1_s4, supp4 = [float(i) for i in class_report[6].split()[2:]]\n",
    "    press4T+=press4; recall4T+=recall4; f1_s4T+=f1_s4; supp4T+=supp4\n",
    "    \n",
    "    \n",
    "    press5, recall5, f1_s5, supp5 = [float(i) for i in class_report[7].split()[2:]]\n",
    "    press5T+=press5; recall5T+=recall5; f1_s5T+=f1_s5; supp5T+=supp5\n",
    "    \n",
    "    con_mat = confusion_matrix(Y_test, yhat.round())  \n",
    "    for i in range(len(mat)):\n",
    "        for j in range(len(mat[i])):\n",
    "            mat[i][j] += con_mat[i][j]\n",
    "            \n",
    "    points.append(acc)\n",
    "    total_acc+=acc\n",
    "    total +=1 \n",
    "    \n",
    "print(\"-> Accuracy\",total_acc/total)\n",
    "\n",
    "print(\"{:.2f} seconds\".format(time.time() - start_time))  "
   ]
  },
  {
   "cell_type": "code",
   "execution_count": 98,
   "metadata": {},
   "outputs": [
    {
     "name": "stdout",
     "output_type": "stream",
     "text": [
      "-> Accuracy 0.8039044289044287\n",
      "\n",
      "  -> Classification Report\n",
      "\n",
      "              precision    recall  f1-score   support \n",
      "           0       0.88      0.78      0.81       312\n",
      "           1       0.77      0.83      0.78       260\n",
      "\n",
      "    accuracy                           0.80       572\n",
      "   macro avg       0.83      0.81      0.79       572\n",
      "weighted avg       0.83      0.80      0.80       572\n",
      "\n",
      " -> Classification Report\n",
      "\n",
      "11687  3289\n",
      "2095  10385\n"
     ]
    }
   ],
   "source": [
    "# the 3 lines below show how to invoke various output    \n",
    "print(\"-> Accuracy\",total_acc/total)\n",
    "\n",
    "print(\"\\n\",\" -> Classification Report\\n\")\n",
    "\n",
    "print('{0:13} {1:12s} {2:7s} {3:10s} {4:8s}'.format(' ' , 'precision', 'recall', 'f1-score' , 'support'))\n",
    "\n",
    "print('{0:9}  {1:6s} {2:5.2f} {3:9.2f} {4:9.2f} {5:9.0f}'.format( ' ','0',press1T/total, recall1T/total, f1_s1T/total, supp1T/total))\n",
    "print('{0:9}  {1:6s} {2:5.2f} {3:9.2f} {4:9.2f} {5:9.0f}\\n'.format( ' ','1',press2T/total, recall2T/total, f1_s2T/total, supp2T/total))\n",
    "print('{0:2}  {1:33s} {2:5.2f} {3:9.0f}'.format( ' ','accuracy',f1_s3T/total, supp3T/total))\n",
    "print('{0:1}  {1:14s} {2:5.2f} {3:9.2f} {4:9.2f} {5:9.0f}'.format( ' ','macro avg',press4T/total, recall4T/total, f1_s4T/total, supp4T/total))\n",
    "print('{0:17s} {1:5.2f} {2:9.2f} {3:9.2f} {4:9.0f}'.format( 'weighted avg',press5T/total, recall5T/total, f1_s5T/total, supp5T/total))\n",
    "\n",
    "print(\"\\n\",\"-> Classification Report\\n\")\n",
    "\n",
    "print('{0:.0f}  {1:.0f}'.format(mat[0][0], mat[0][1]))\n",
    "print('{0:.0f}  {1:.0f}'.format(mat[1][0], mat[1][1]))"
   ]
  },
  {
   "cell_type": "code",
   "execution_count": 100,
   "metadata": {},
   "outputs": [
    {
     "data": {
      "text/plain": [
       "<matplotlib.legend.Legend at 0x7faf543177d0>"
      ]
     },
     "execution_count": 100,
     "metadata": {},
     "output_type": "execute_result"
    },
    {
     "data": {
      "image/png": "[encoded data removed]",
      "text/plain": [
       "<Figure size 432x288 with 1 Axes>"
      ]
     },
     "metadata": {
      "needs_background": "light"
     },
     "output_type": "display_data"
    }
   ],
   "source": [
    "# summarize history for accuracy\n",
    "\n",
    "plt.plot(points) \n",
    "plt.title('Long Short Term Memory model accuracy') \n",
    "plt.ylabel('accuracy')\n",
    "plt.xlabel('run')\n",
    "plt.legend(['acc'], loc='upper left')"
   ]
  },
  {
   "cell_type": "code",
   "execution_count": 102,
   "metadata": {},
   "outputs": [
    {
     "data": {
      "image/png": "[encoded data removed]",
      "text/plain": [
       "<Figure size 432x288 with 2 Axes>"
      ]
     },
     "metadata": {
      "needs_background": "light"
     },
     "output_type": "display_data"
    }
   ],
   "source": [
    "import seaborn as sns\n",
    "cf_matrix = np.array([[11687,  3289], [2095, 10385]])\n",
    "group_names = ['True Neg','False Pos','False Neg','True Pos']\n",
    "categories = ['spam', 'non-spam']\n",
    "group_counts = ['{0:0.0f}'.format(value) for value in\n",
    "                cf_matrix.flatten()]\n",
    "group_percentages = ['{0:.2%}'.format(value) for value in cf_matrix.flatten()/np.sum(cf_matrix)]\n",
    "\n",
    "labels = [f\"{v1}\\n{v2}\\n{v3}\" for v1, v2, v3 in\n",
    "          zip(group_names,group_counts,group_percentages)]\n",
    "\n",
    "labels = np.asarray(labels).reshape(2,2)\n",
    "\n",
    "sns.heatmap(cf_matrix, annot=labels,xticklabels=categories, yticklabels=categories, fmt='', cmap='Blues')\n",
    "\n",
    "plt.ylabel('True label')\n",
    "plt.xlabel('Predicted label')\n",
    "plt.title(\"Long Short Term Memory Confusion Matrix\")\n",
    "plt.show()\n"
   ]
  },
  {
   "cell_type": "code",
   "execution_count": null,
   "metadata": {},
   "outputs": [],
   "source": []
  }
 ],
 "metadata": {
  "kernelspec": {
   "display_name": "Python 3",
   "language": "python",
   "name": "python3"
  },
  "language_info": {
   "codemirror_mode": {
    "name": "ipython",
    "version": 3
   },
   "file_extension": ".py",
   "mimetype": "text/x-python",
   "name": "python",
   "nbconvert_exporter": "python",
   "pygments_lexer": "ipython3",
   "version": "3.7.6"
  }
 },
 "nbformat": 4,
 "nbformat_minor": 4
}
